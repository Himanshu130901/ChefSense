{
  "nbformat": 4,
  "nbformat_minor": 0,
  "metadata": {
    "colab": {
      "provenance": []
    },
    "kernelspec": {
      "name": "python3",
      "display_name": "Python 3"
    },
    "language_info": {
      "name": "python"
    }
  },
  "cells": [
    {
      "cell_type": "markdown",
      "source": [
        "# **ChefSense**"
      ],
      "metadata": {
        "id": "POLBazt7MkvW"
      }
    },
    {
      "cell_type": "code",
      "execution_count": 1,
      "metadata": {
        "id": "vQWwpY7WUZYo"
      },
      "outputs": [],
      "source": [
        "import pandas as pd"
      ]
    },
    {
      "cell_type": "code",
      "source": [
        "# File path\n",
        "file_path = '/content/Data Analyst Intern Assignment - Excel.xlsx'"
      ],
      "metadata": {
        "id": "t65ZIrSaUcIu"
      },
      "execution_count": 3,
      "outputs": []
    },
    {
      "cell_type": "markdown",
      "source": [
        "# 1.Loading the dataset"
      ],
      "metadata": {
        "id": "R-2322sOGHLz"
      }
    },
    {
      "cell_type": "code",
      "source": [
        "\n",
        "user_details = pd.read_excel(file_path, sheet_name='UserDetails.csv')\n",
        "cooking_sessions = pd.read_excel(file_path, sheet_name='CookingSessions.csv')\n",
        "order_details = pd.read_excel(file_path, sheet_name='OrderDetails.csv')"
      ],
      "metadata": {
        "id": "HkbYdSlCUcLO"
      },
      "execution_count": 4,
      "outputs": []
    },
    {
      "cell_type": "code",
      "source": [
        "user_details.head()\n",
        "\n"
      ],
      "metadata": {
        "colab": {
          "base_uri": "https://localhost:8080/",
          "height": 206
        },
        "id": "9Qwi64xVUcQM",
        "outputId": "cc1bf1f9-657b-408b-95c0-aab77b6c3457"
      },
      "execution_count": 13,
      "outputs": [
        {
          "output_type": "execute_result",
          "data": {
            "text/plain": [
              "  User ID      User Name  Age       Location Registration Date         Phone  \\\n",
              "0    U001  Alice Johnson   28       New York        2023-01-15  123-456-7890   \n",
              "1    U002      Bob Smith   35    Los Angeles        2023-02-20  987-654-3210   \n",
              "2    U003    Charlie Lee   42        Chicago        2023-03-10  555-123-4567   \n",
              "3    U004    David Brown   27  San Francisco        2023-04-05  444-333-2222   \n",
              "4    U005     Emma White   30        Seattle        2023-05-22  777-888-9999   \n",
              "\n",
              "               Email Favorite Meal  Total Orders  \n",
              "0    alice@email.com        Dinner            12  \n",
              "1      bob@email.com         Lunch             8  \n",
              "2  charlie@email.com     Breakfast            15  \n",
              "3    david@email.com        Dinner            10  \n",
              "4     emma@email.com         Lunch             9  "
            ],
            "text/html": [
              "\n",
              "  <div id=\"df-b45a2bfb-a500-4f3c-8c79-6461648e1393\" class=\"colab-df-container\">\n",
              "    <div>\n",
              "<style scoped>\n",
              "    .dataframe tbody tr th:only-of-type {\n",
              "        vertical-align: middle;\n",
              "    }\n",
              "\n",
              "    .dataframe tbody tr th {\n",
              "        vertical-align: top;\n",
              "    }\n",
              "\n",
              "    .dataframe thead th {\n",
              "        text-align: right;\n",
              "    }\n",
              "</style>\n",
              "<table border=\"1\" class=\"dataframe\">\n",
              "  <thead>\n",
              "    <tr style=\"text-align: right;\">\n",
              "      <th></th>\n",
              "      <th>User ID</th>\n",
              "      <th>User Name</th>\n",
              "      <th>Age</th>\n",
              "      <th>Location</th>\n",
              "      <th>Registration Date</th>\n",
              "      <th>Phone</th>\n",
              "      <th>Email</th>\n",
              "      <th>Favorite Meal</th>\n",
              "      <th>Total Orders</th>\n",
              "    </tr>\n",
              "  </thead>\n",
              "  <tbody>\n",
              "    <tr>\n",
              "      <th>0</th>\n",
              "      <td>U001</td>\n",
              "      <td>Alice Johnson</td>\n",
              "      <td>28</td>\n",
              "      <td>New York</td>\n",
              "      <td>2023-01-15</td>\n",
              "      <td>123-456-7890</td>\n",
              "      <td>alice@email.com</td>\n",
              "      <td>Dinner</td>\n",
              "      <td>12</td>\n",
              "    </tr>\n",
              "    <tr>\n",
              "      <th>1</th>\n",
              "      <td>U002</td>\n",
              "      <td>Bob Smith</td>\n",
              "      <td>35</td>\n",
              "      <td>Los Angeles</td>\n",
              "      <td>2023-02-20</td>\n",
              "      <td>987-654-3210</td>\n",
              "      <td>bob@email.com</td>\n",
              "      <td>Lunch</td>\n",
              "      <td>8</td>\n",
              "    </tr>\n",
              "    <tr>\n",
              "      <th>2</th>\n",
              "      <td>U003</td>\n",
              "      <td>Charlie Lee</td>\n",
              "      <td>42</td>\n",
              "      <td>Chicago</td>\n",
              "      <td>2023-03-10</td>\n",
              "      <td>555-123-4567</td>\n",
              "      <td>charlie@email.com</td>\n",
              "      <td>Breakfast</td>\n",
              "      <td>15</td>\n",
              "    </tr>\n",
              "    <tr>\n",
              "      <th>3</th>\n",
              "      <td>U004</td>\n",
              "      <td>David Brown</td>\n",
              "      <td>27</td>\n",
              "      <td>San Francisco</td>\n",
              "      <td>2023-04-05</td>\n",
              "      <td>444-333-2222</td>\n",
              "      <td>david@email.com</td>\n",
              "      <td>Dinner</td>\n",
              "      <td>10</td>\n",
              "    </tr>\n",
              "    <tr>\n",
              "      <th>4</th>\n",
              "      <td>U005</td>\n",
              "      <td>Emma White</td>\n",
              "      <td>30</td>\n",
              "      <td>Seattle</td>\n",
              "      <td>2023-05-22</td>\n",
              "      <td>777-888-9999</td>\n",
              "      <td>emma@email.com</td>\n",
              "      <td>Lunch</td>\n",
              "      <td>9</td>\n",
              "    </tr>\n",
              "  </tbody>\n",
              "</table>\n",
              "</div>\n",
              "    <div class=\"colab-df-buttons\">\n",
              "\n",
              "  <div class=\"colab-df-container\">\n",
              "    <button class=\"colab-df-convert\" onclick=\"convertToInteractive('df-b45a2bfb-a500-4f3c-8c79-6461648e1393')\"\n",
              "            title=\"Convert this dataframe to an interactive table.\"\n",
              "            style=\"display:none;\">\n",
              "\n",
              "  <svg xmlns=\"http://www.w3.org/2000/svg\" height=\"24px\" viewBox=\"0 -960 960 960\">\n",
              "    <path d=\"M120-120v-720h720v720H120Zm60-500h600v-160H180v160Zm220 220h160v-160H400v160Zm0 220h160v-160H400v160ZM180-400h160v-160H180v160Zm440 0h160v-160H620v160ZM180-180h160v-160H180v160Zm440 0h160v-160H620v160Z\"/>\n",
              "  </svg>\n",
              "    </button>\n",
              "\n",
              "  <style>\n",
              "    .colab-df-container {\n",
              "      display:flex;\n",
              "      gap: 12px;\n",
              "    }\n",
              "\n",
              "    .colab-df-convert {\n",
              "      background-color: #E8F0FE;\n",
              "      border: none;\n",
              "      border-radius: 50%;\n",
              "      cursor: pointer;\n",
              "      display: none;\n",
              "      fill: #1967D2;\n",
              "      height: 32px;\n",
              "      padding: 0 0 0 0;\n",
              "      width: 32px;\n",
              "    }\n",
              "\n",
              "    .colab-df-convert:hover {\n",
              "      background-color: #E2EBFA;\n",
              "      box-shadow: 0px 1px 2px rgba(60, 64, 67, 0.3), 0px 1px 3px 1px rgba(60, 64, 67, 0.15);\n",
              "      fill: #174EA6;\n",
              "    }\n",
              "\n",
              "    .colab-df-buttons div {\n",
              "      margin-bottom: 4px;\n",
              "    }\n",
              "\n",
              "    [theme=dark] .colab-df-convert {\n",
              "      background-color: #3B4455;\n",
              "      fill: #D2E3FC;\n",
              "    }\n",
              "\n",
              "    [theme=dark] .colab-df-convert:hover {\n",
              "      background-color: #434B5C;\n",
              "      box-shadow: 0px 1px 3px 1px rgba(0, 0, 0, 0.15);\n",
              "      filter: drop-shadow(0px 1px 2px rgba(0, 0, 0, 0.3));\n",
              "      fill: #FFFFFF;\n",
              "    }\n",
              "  </style>\n",
              "\n",
              "    <script>\n",
              "      const buttonEl =\n",
              "        document.querySelector('#df-b45a2bfb-a500-4f3c-8c79-6461648e1393 button.colab-df-convert');\n",
              "      buttonEl.style.display =\n",
              "        google.colab.kernel.accessAllowed ? 'block' : 'none';\n",
              "\n",
              "      async function convertToInteractive(key) {\n",
              "        const element = document.querySelector('#df-b45a2bfb-a500-4f3c-8c79-6461648e1393');\n",
              "        const dataTable =\n",
              "          await google.colab.kernel.invokeFunction('convertToInteractive',\n",
              "                                                    [key], {});\n",
              "        if (!dataTable) return;\n",
              "\n",
              "        const docLinkHtml = 'Like what you see? Visit the ' +\n",
              "          '<a target=\"_blank\" href=https://colab.research.google.com/notebooks/data_table.ipynb>data table notebook</a>'\n",
              "          + ' to learn more about interactive tables.';\n",
              "        element.innerHTML = '';\n",
              "        dataTable['output_type'] = 'display_data';\n",
              "        await google.colab.output.renderOutput(dataTable, element);\n",
              "        const docLink = document.createElement('div');\n",
              "        docLink.innerHTML = docLinkHtml;\n",
              "        element.appendChild(docLink);\n",
              "      }\n",
              "    </script>\n",
              "  </div>\n",
              "\n",
              "\n",
              "<div id=\"df-0db31671-efcd-41fa-a3ee-f35f25e88d22\">\n",
              "  <button class=\"colab-df-quickchart\" onclick=\"quickchart('df-0db31671-efcd-41fa-a3ee-f35f25e88d22')\"\n",
              "            title=\"Suggest charts\"\n",
              "            style=\"display:none;\">\n",
              "\n",
              "<svg xmlns=\"http://www.w3.org/2000/svg\" height=\"24px\"viewBox=\"0 0 24 24\"\n",
              "     width=\"24px\">\n",
              "    <g>\n",
              "        <path d=\"M19 3H5c-1.1 0-2 .9-2 2v14c0 1.1.9 2 2 2h14c1.1 0 2-.9 2-2V5c0-1.1-.9-2-2-2zM9 17H7v-7h2v7zm4 0h-2V7h2v10zm4 0h-2v-4h2v4z\"/>\n",
              "    </g>\n",
              "</svg>\n",
              "  </button>\n",
              "\n",
              "<style>\n",
              "  .colab-df-quickchart {\n",
              "      --bg-color: #E8F0FE;\n",
              "      --fill-color: #1967D2;\n",
              "      --hover-bg-color: #E2EBFA;\n",
              "      --hover-fill-color: #174EA6;\n",
              "      --disabled-fill-color: #AAA;\n",
              "      --disabled-bg-color: #DDD;\n",
              "  }\n",
              "\n",
              "  [theme=dark] .colab-df-quickchart {\n",
              "      --bg-color: #3B4455;\n",
              "      --fill-color: #D2E3FC;\n",
              "      --hover-bg-color: #434B5C;\n",
              "      --hover-fill-color: #FFFFFF;\n",
              "      --disabled-bg-color: #3B4455;\n",
              "      --disabled-fill-color: #666;\n",
              "  }\n",
              "\n",
              "  .colab-df-quickchart {\n",
              "    background-color: var(--bg-color);\n",
              "    border: none;\n",
              "    border-radius: 50%;\n",
              "    cursor: pointer;\n",
              "    display: none;\n",
              "    fill: var(--fill-color);\n",
              "    height: 32px;\n",
              "    padding: 0;\n",
              "    width: 32px;\n",
              "  }\n",
              "\n",
              "  .colab-df-quickchart:hover {\n",
              "    background-color: var(--hover-bg-color);\n",
              "    box-shadow: 0 1px 2px rgba(60, 64, 67, 0.3), 0 1px 3px 1px rgba(60, 64, 67, 0.15);\n",
              "    fill: var(--button-hover-fill-color);\n",
              "  }\n",
              "\n",
              "  .colab-df-quickchart-complete:disabled,\n",
              "  .colab-df-quickchart-complete:disabled:hover {\n",
              "    background-color: var(--disabled-bg-color);\n",
              "    fill: var(--disabled-fill-color);\n",
              "    box-shadow: none;\n",
              "  }\n",
              "\n",
              "  .colab-df-spinner {\n",
              "    border: 2px solid var(--fill-color);\n",
              "    border-color: transparent;\n",
              "    border-bottom-color: var(--fill-color);\n",
              "    animation:\n",
              "      spin 1s steps(1) infinite;\n",
              "  }\n",
              "\n",
              "  @keyframes spin {\n",
              "    0% {\n",
              "      border-color: transparent;\n",
              "      border-bottom-color: var(--fill-color);\n",
              "      border-left-color: var(--fill-color);\n",
              "    }\n",
              "    20% {\n",
              "      border-color: transparent;\n",
              "      border-left-color: var(--fill-color);\n",
              "      border-top-color: var(--fill-color);\n",
              "    }\n",
              "    30% {\n",
              "      border-color: transparent;\n",
              "      border-left-color: var(--fill-color);\n",
              "      border-top-color: var(--fill-color);\n",
              "      border-right-color: var(--fill-color);\n",
              "    }\n",
              "    40% {\n",
              "      border-color: transparent;\n",
              "      border-right-color: var(--fill-color);\n",
              "      border-top-color: var(--fill-color);\n",
              "    }\n",
              "    60% {\n",
              "      border-color: transparent;\n",
              "      border-right-color: var(--fill-color);\n",
              "    }\n",
              "    80% {\n",
              "      border-color: transparent;\n",
              "      border-right-color: var(--fill-color);\n",
              "      border-bottom-color: var(--fill-color);\n",
              "    }\n",
              "    90% {\n",
              "      border-color: transparent;\n",
              "      border-bottom-color: var(--fill-color);\n",
              "    }\n",
              "  }\n",
              "</style>\n",
              "\n",
              "  <script>\n",
              "    async function quickchart(key) {\n",
              "      const quickchartButtonEl =\n",
              "        document.querySelector('#' + key + ' button');\n",
              "      quickchartButtonEl.disabled = true;  // To prevent multiple clicks.\n",
              "      quickchartButtonEl.classList.add('colab-df-spinner');\n",
              "      try {\n",
              "        const charts = await google.colab.kernel.invokeFunction(\n",
              "            'suggestCharts', [key], {});\n",
              "      } catch (error) {\n",
              "        console.error('Error during call to suggestCharts:', error);\n",
              "      }\n",
              "      quickchartButtonEl.classList.remove('colab-df-spinner');\n",
              "      quickchartButtonEl.classList.add('colab-df-quickchart-complete');\n",
              "    }\n",
              "    (() => {\n",
              "      let quickchartButtonEl =\n",
              "        document.querySelector('#df-0db31671-efcd-41fa-a3ee-f35f25e88d22 button');\n",
              "      quickchartButtonEl.style.display =\n",
              "        google.colab.kernel.accessAllowed ? 'block' : 'none';\n",
              "    })();\n",
              "  </script>\n",
              "</div>\n",
              "\n",
              "    </div>\n",
              "  </div>\n"
            ],
            "application/vnd.google.colaboratory.intrinsic+json": {
              "type": "dataframe",
              "variable_name": "user_details",
              "summary": "{\n  \"name\": \"user_details\",\n  \"rows\": 10,\n  \"fields\": [\n    {\n      \"column\": \"User ID\",\n      \"properties\": {\n        \"dtype\": \"string\",\n        \"num_unique_values\": 10,\n        \"samples\": [\n          \"U009\",\n          \"U002\",\n          \"U006\"\n        ],\n        \"semantic_type\": \"\",\n        \"description\": \"\"\n      }\n    },\n    {\n      \"column\": \"User Name\",\n      \"properties\": {\n        \"dtype\": \"string\",\n        \"num_unique_values\": 10,\n        \"samples\": [\n          \"Irene Moore\",\n          \"Bob Smith\",\n          \"Frank Green\"\n        ],\n        \"semantic_type\": \"\",\n        \"description\": \"\"\n      }\n    },\n    {\n      \"column\": \"Age\",\n      \"properties\": {\n        \"dtype\": \"number\",\n        \"std\": 5,\n        \"min\": 25,\n        \"max\": 42,\n        \"num_unique_values\": 10,\n        \"samples\": [\n          33,\n          35,\n          25\n        ],\n        \"semantic_type\": \"\",\n        \"description\": \"\"\n      }\n    },\n    {\n      \"column\": \"Location\",\n      \"properties\": {\n        \"dtype\": \"string\",\n        \"num_unique_values\": 10,\n        \"samples\": [\n          \"Dallas\",\n          \"Los Angeles\",\n          \"Austin\"\n        ],\n        \"semantic_type\": \"\",\n        \"description\": \"\"\n      }\n    },\n    {\n      \"column\": \"Registration Date\",\n      \"properties\": {\n        \"dtype\": \"date\",\n        \"min\": \"2023-01-15 00:00:00\",\n        \"max\": \"2023-10-10 00:00:00\",\n        \"num_unique_values\": 10,\n        \"samples\": [\n          \"2023-09-01 00:00:00\",\n          \"2023-02-20 00:00:00\",\n          \"2023-06-15 00:00:00\"\n        ],\n        \"semantic_type\": \"\",\n        \"description\": \"\"\n      }\n    },\n    {\n      \"column\": \"Phone\",\n      \"properties\": {\n        \"dtype\": \"string\",\n        \"num_unique_values\": 10,\n        \"samples\": [\n          \"202-303-4040\",\n          \"987-654-3210\",\n          \"888-777-6666\"\n        ],\n        \"semantic_type\": \"\",\n        \"description\": \"\"\n      }\n    },\n    {\n      \"column\": \"Email\",\n      \"properties\": {\n        \"dtype\": \"string\",\n        \"num_unique_values\": 10,\n        \"samples\": [\n          \"irene@email.com\",\n          \"bob@email.com\",\n          \"frank@email.com\"\n        ],\n        \"semantic_type\": \"\",\n        \"description\": \"\"\n      }\n    },\n    {\n      \"column\": \"Favorite Meal\",\n      \"properties\": {\n        \"dtype\": \"category\",\n        \"num_unique_values\": 3,\n        \"samples\": [\n          \"Dinner\",\n          \"Lunch\",\n          \"Breakfast\"\n        ],\n        \"semantic_type\": \"\",\n        \"description\": \"\"\n      }\n    },\n    {\n      \"column\": \"Total Orders\",\n      \"properties\": {\n        \"dtype\": \"number\",\n        \"std\": 3,\n        \"min\": 5,\n        \"max\": 15,\n        \"num_unique_values\": 9,\n        \"samples\": [\n          5,\n          8,\n          7\n        ],\n        \"semantic_type\": \"\",\n        \"description\": \"\"\n      }\n    }\n  ]\n}"
            }
          },
          "metadata": {},
          "execution_count": 13
        }
      ]
    },
    {
      "cell_type": "code",
      "source": [
        "user_details.info()\n"
      ],
      "metadata": {
        "colab": {
          "base_uri": "https://localhost:8080/"
        },
        "id": "Rij2oaruVWm0",
        "outputId": "4222f075-2974-48f6-89dc-5986aa241216"
      },
      "execution_count": 14,
      "outputs": [
        {
          "output_type": "stream",
          "name": "stdout",
          "text": [
            "<class 'pandas.core.frame.DataFrame'>\n",
            "RangeIndex: 10 entries, 0 to 9\n",
            "Data columns (total 9 columns):\n",
            " #   Column             Non-Null Count  Dtype         \n",
            "---  ------             --------------  -----         \n",
            " 0   User ID            10 non-null     object        \n",
            " 1   User Name          10 non-null     object        \n",
            " 2   Age                10 non-null     int64         \n",
            " 3   Location           10 non-null     object        \n",
            " 4   Registration Date  10 non-null     datetime64[ns]\n",
            " 5   Phone              10 non-null     object        \n",
            " 6   Email              10 non-null     object        \n",
            " 7   Favorite Meal      10 non-null     object        \n",
            " 8   Total Orders       10 non-null     int64         \n",
            "dtypes: datetime64[ns](1), int64(2), object(6)\n",
            "memory usage: 848.0+ bytes\n"
          ]
        }
      ]
    },
    {
      "cell_type": "code",
      "source": [
        "cooking_sessions.head()\n"
      ],
      "metadata": {
        "colab": {
          "base_uri": "https://localhost:8080/",
          "height": 206
        },
        "id": "D9Atlz08UcSp",
        "outputId": "ef25bc8c-36b2-4d31-8b24-de8306fcb667"
      },
      "execution_count": 8,
      "outputs": [
        {
          "output_type": "execute_result",
          "data": {
            "text/plain": [
              "  Session ID User ID        Dish Name  Meal Type       Session Start  \\\n",
              "0       S001    U001        Spaghetti     Dinner 2024-12-01 19:00:00   \n",
              "1       S002    U002     Caesar Salad      Lunch 2024-12-01 12:00:00   \n",
              "2       S003    U003  Grilled Chicken     Dinner 2024-12-02 19:30:00   \n",
              "3       S004    U001         Pancakes  Breakfast 2024-12-02 07:30:00   \n",
              "4       S005    U004     Caesar Salad      Lunch 2024-12-03 13:00:00   \n",
              "\n",
              "          Session End  Duration (mins)  Session Rating  \n",
              "0 2024-12-01 19:30:00               30             4.5  \n",
              "1 2024-12-01 12:20:00               20             4.0  \n",
              "2 2024-12-02 20:10:00               40             4.8  \n",
              "3 2024-12-02 08:00:00               30             4.2  \n",
              "4 2024-12-03 13:15:00               15             4.7  "
            ],
            "text/html": [
              "\n",
              "  <div id=\"df-cf282ea0-248c-4d61-820b-2163816fec67\" class=\"colab-df-container\">\n",
              "    <div>\n",
              "<style scoped>\n",
              "    .dataframe tbody tr th:only-of-type {\n",
              "        vertical-align: middle;\n",
              "    }\n",
              "\n",
              "    .dataframe tbody tr th {\n",
              "        vertical-align: top;\n",
              "    }\n",
              "\n",
              "    .dataframe thead th {\n",
              "        text-align: right;\n",
              "    }\n",
              "</style>\n",
              "<table border=\"1\" class=\"dataframe\">\n",
              "  <thead>\n",
              "    <tr style=\"text-align: right;\">\n",
              "      <th></th>\n",
              "      <th>Session ID</th>\n",
              "      <th>User ID</th>\n",
              "      <th>Dish Name</th>\n",
              "      <th>Meal Type</th>\n",
              "      <th>Session Start</th>\n",
              "      <th>Session End</th>\n",
              "      <th>Duration (mins)</th>\n",
              "      <th>Session Rating</th>\n",
              "    </tr>\n",
              "  </thead>\n",
              "  <tbody>\n",
              "    <tr>\n",
              "      <th>0</th>\n",
              "      <td>S001</td>\n",
              "      <td>U001</td>\n",
              "      <td>Spaghetti</td>\n",
              "      <td>Dinner</td>\n",
              "      <td>2024-12-01 19:00:00</td>\n",
              "      <td>2024-12-01 19:30:00</td>\n",
              "      <td>30</td>\n",
              "      <td>4.5</td>\n",
              "    </tr>\n",
              "    <tr>\n",
              "      <th>1</th>\n",
              "      <td>S002</td>\n",
              "      <td>U002</td>\n",
              "      <td>Caesar Salad</td>\n",
              "      <td>Lunch</td>\n",
              "      <td>2024-12-01 12:00:00</td>\n",
              "      <td>2024-12-01 12:20:00</td>\n",
              "      <td>20</td>\n",
              "      <td>4.0</td>\n",
              "    </tr>\n",
              "    <tr>\n",
              "      <th>2</th>\n",
              "      <td>S003</td>\n",
              "      <td>U003</td>\n",
              "      <td>Grilled Chicken</td>\n",
              "      <td>Dinner</td>\n",
              "      <td>2024-12-02 19:30:00</td>\n",
              "      <td>2024-12-02 20:10:00</td>\n",
              "      <td>40</td>\n",
              "      <td>4.8</td>\n",
              "    </tr>\n",
              "    <tr>\n",
              "      <th>3</th>\n",
              "      <td>S004</td>\n",
              "      <td>U001</td>\n",
              "      <td>Pancakes</td>\n",
              "      <td>Breakfast</td>\n",
              "      <td>2024-12-02 07:30:00</td>\n",
              "      <td>2024-12-02 08:00:00</td>\n",
              "      <td>30</td>\n",
              "      <td>4.2</td>\n",
              "    </tr>\n",
              "    <tr>\n",
              "      <th>4</th>\n",
              "      <td>S005</td>\n",
              "      <td>U004</td>\n",
              "      <td>Caesar Salad</td>\n",
              "      <td>Lunch</td>\n",
              "      <td>2024-12-03 13:00:00</td>\n",
              "      <td>2024-12-03 13:15:00</td>\n",
              "      <td>15</td>\n",
              "      <td>4.7</td>\n",
              "    </tr>\n",
              "  </tbody>\n",
              "</table>\n",
              "</div>\n",
              "    <div class=\"colab-df-buttons\">\n",
              "\n",
              "  <div class=\"colab-df-container\">\n",
              "    <button class=\"colab-df-convert\" onclick=\"convertToInteractive('df-cf282ea0-248c-4d61-820b-2163816fec67')\"\n",
              "            title=\"Convert this dataframe to an interactive table.\"\n",
              "            style=\"display:none;\">\n",
              "\n",
              "  <svg xmlns=\"http://www.w3.org/2000/svg\" height=\"24px\" viewBox=\"0 -960 960 960\">\n",
              "    <path d=\"M120-120v-720h720v720H120Zm60-500h600v-160H180v160Zm220 220h160v-160H400v160Zm0 220h160v-160H400v160ZM180-400h160v-160H180v160Zm440 0h160v-160H620v160ZM180-180h160v-160H180v160Zm440 0h160v-160H620v160Z\"/>\n",
              "  </svg>\n",
              "    </button>\n",
              "\n",
              "  <style>\n",
              "    .colab-df-container {\n",
              "      display:flex;\n",
              "      gap: 12px;\n",
              "    }\n",
              "\n",
              "    .colab-df-convert {\n",
              "      background-color: #E8F0FE;\n",
              "      border: none;\n",
              "      border-radius: 50%;\n",
              "      cursor: pointer;\n",
              "      display: none;\n",
              "      fill: #1967D2;\n",
              "      height: 32px;\n",
              "      padding: 0 0 0 0;\n",
              "      width: 32px;\n",
              "    }\n",
              "\n",
              "    .colab-df-convert:hover {\n",
              "      background-color: #E2EBFA;\n",
              "      box-shadow: 0px 1px 2px rgba(60, 64, 67, 0.3), 0px 1px 3px 1px rgba(60, 64, 67, 0.15);\n",
              "      fill: #174EA6;\n",
              "    }\n",
              "\n",
              "    .colab-df-buttons div {\n",
              "      margin-bottom: 4px;\n",
              "    }\n",
              "\n",
              "    [theme=dark] .colab-df-convert {\n",
              "      background-color: #3B4455;\n",
              "      fill: #D2E3FC;\n",
              "    }\n",
              "\n",
              "    [theme=dark] .colab-df-convert:hover {\n",
              "      background-color: #434B5C;\n",
              "      box-shadow: 0px 1px 3px 1px rgba(0, 0, 0, 0.15);\n",
              "      filter: drop-shadow(0px 1px 2px rgba(0, 0, 0, 0.3));\n",
              "      fill: #FFFFFF;\n",
              "    }\n",
              "  </style>\n",
              "\n",
              "    <script>\n",
              "      const buttonEl =\n",
              "        document.querySelector('#df-cf282ea0-248c-4d61-820b-2163816fec67 button.colab-df-convert');\n",
              "      buttonEl.style.display =\n",
              "        google.colab.kernel.accessAllowed ? 'block' : 'none';\n",
              "\n",
              "      async function convertToInteractive(key) {\n",
              "        const element = document.querySelector('#df-cf282ea0-248c-4d61-820b-2163816fec67');\n",
              "        const dataTable =\n",
              "          await google.colab.kernel.invokeFunction('convertToInteractive',\n",
              "                                                    [key], {});\n",
              "        if (!dataTable) return;\n",
              "\n",
              "        const docLinkHtml = 'Like what you see? Visit the ' +\n",
              "          '<a target=\"_blank\" href=https://colab.research.google.com/notebooks/data_table.ipynb>data table notebook</a>'\n",
              "          + ' to learn more about interactive tables.';\n",
              "        element.innerHTML = '';\n",
              "        dataTable['output_type'] = 'display_data';\n",
              "        await google.colab.output.renderOutput(dataTable, element);\n",
              "        const docLink = document.createElement('div');\n",
              "        docLink.innerHTML = docLinkHtml;\n",
              "        element.appendChild(docLink);\n",
              "      }\n",
              "    </script>\n",
              "  </div>\n",
              "\n",
              "\n",
              "<div id=\"df-2bec1d21-d357-4fc6-9121-e9eff805c569\">\n",
              "  <button class=\"colab-df-quickchart\" onclick=\"quickchart('df-2bec1d21-d357-4fc6-9121-e9eff805c569')\"\n",
              "            title=\"Suggest charts\"\n",
              "            style=\"display:none;\">\n",
              "\n",
              "<svg xmlns=\"http://www.w3.org/2000/svg\" height=\"24px\"viewBox=\"0 0 24 24\"\n",
              "     width=\"24px\">\n",
              "    <g>\n",
              "        <path d=\"M19 3H5c-1.1 0-2 .9-2 2v14c0 1.1.9 2 2 2h14c1.1 0 2-.9 2-2V5c0-1.1-.9-2-2-2zM9 17H7v-7h2v7zm4 0h-2V7h2v10zm4 0h-2v-4h2v4z\"/>\n",
              "    </g>\n",
              "</svg>\n",
              "  </button>\n",
              "\n",
              "<style>\n",
              "  .colab-df-quickchart {\n",
              "      --bg-color: #E8F0FE;\n",
              "      --fill-color: #1967D2;\n",
              "      --hover-bg-color: #E2EBFA;\n",
              "      --hover-fill-color: #174EA6;\n",
              "      --disabled-fill-color: #AAA;\n",
              "      --disabled-bg-color: #DDD;\n",
              "  }\n",
              "\n",
              "  [theme=dark] .colab-df-quickchart {\n",
              "      --bg-color: #3B4455;\n",
              "      --fill-color: #D2E3FC;\n",
              "      --hover-bg-color: #434B5C;\n",
              "      --hover-fill-color: #FFFFFF;\n",
              "      --disabled-bg-color: #3B4455;\n",
              "      --disabled-fill-color: #666;\n",
              "  }\n",
              "\n",
              "  .colab-df-quickchart {\n",
              "    background-color: var(--bg-color);\n",
              "    border: none;\n",
              "    border-radius: 50%;\n",
              "    cursor: pointer;\n",
              "    display: none;\n",
              "    fill: var(--fill-color);\n",
              "    height: 32px;\n",
              "    padding: 0;\n",
              "    width: 32px;\n",
              "  }\n",
              "\n",
              "  .colab-df-quickchart:hover {\n",
              "    background-color: var(--hover-bg-color);\n",
              "    box-shadow: 0 1px 2px rgba(60, 64, 67, 0.3), 0 1px 3px 1px rgba(60, 64, 67, 0.15);\n",
              "    fill: var(--button-hover-fill-color);\n",
              "  }\n",
              "\n",
              "  .colab-df-quickchart-complete:disabled,\n",
              "  .colab-df-quickchart-complete:disabled:hover {\n",
              "    background-color: var(--disabled-bg-color);\n",
              "    fill: var(--disabled-fill-color);\n",
              "    box-shadow: none;\n",
              "  }\n",
              "\n",
              "  .colab-df-spinner {\n",
              "    border: 2px solid var(--fill-color);\n",
              "    border-color: transparent;\n",
              "    border-bottom-color: var(--fill-color);\n",
              "    animation:\n",
              "      spin 1s steps(1) infinite;\n",
              "  }\n",
              "\n",
              "  @keyframes spin {\n",
              "    0% {\n",
              "      border-color: transparent;\n",
              "      border-bottom-color: var(--fill-color);\n",
              "      border-left-color: var(--fill-color);\n",
              "    }\n",
              "    20% {\n",
              "      border-color: transparent;\n",
              "      border-left-color: var(--fill-color);\n",
              "      border-top-color: var(--fill-color);\n",
              "    }\n",
              "    30% {\n",
              "      border-color: transparent;\n",
              "      border-left-color: var(--fill-color);\n",
              "      border-top-color: var(--fill-color);\n",
              "      border-right-color: var(--fill-color);\n",
              "    }\n",
              "    40% {\n",
              "      border-color: transparent;\n",
              "      border-right-color: var(--fill-color);\n",
              "      border-top-color: var(--fill-color);\n",
              "    }\n",
              "    60% {\n",
              "      border-color: transparent;\n",
              "      border-right-color: var(--fill-color);\n",
              "    }\n",
              "    80% {\n",
              "      border-color: transparent;\n",
              "      border-right-color: var(--fill-color);\n",
              "      border-bottom-color: var(--fill-color);\n",
              "    }\n",
              "    90% {\n",
              "      border-color: transparent;\n",
              "      border-bottom-color: var(--fill-color);\n",
              "    }\n",
              "  }\n",
              "</style>\n",
              "\n",
              "  <script>\n",
              "    async function quickchart(key) {\n",
              "      const quickchartButtonEl =\n",
              "        document.querySelector('#' + key + ' button');\n",
              "      quickchartButtonEl.disabled = true;  // To prevent multiple clicks.\n",
              "      quickchartButtonEl.classList.add('colab-df-spinner');\n",
              "      try {\n",
              "        const charts = await google.colab.kernel.invokeFunction(\n",
              "            'suggestCharts', [key], {});\n",
              "      } catch (error) {\n",
              "        console.error('Error during call to suggestCharts:', error);\n",
              "      }\n",
              "      quickchartButtonEl.classList.remove('colab-df-spinner');\n",
              "      quickchartButtonEl.classList.add('colab-df-quickchart-complete');\n",
              "    }\n",
              "    (() => {\n",
              "      let quickchartButtonEl =\n",
              "        document.querySelector('#df-2bec1d21-d357-4fc6-9121-e9eff805c569 button');\n",
              "      quickchartButtonEl.style.display =\n",
              "        google.colab.kernel.accessAllowed ? 'block' : 'none';\n",
              "    })();\n",
              "  </script>\n",
              "</div>\n",
              "\n",
              "    </div>\n",
              "  </div>\n"
            ],
            "application/vnd.google.colaboratory.intrinsic+json": {
              "type": "dataframe",
              "variable_name": "cooking_sessions",
              "summary": "{\n  \"name\": \"cooking_sessions\",\n  \"rows\": 16,\n  \"fields\": [\n    {\n      \"column\": \"Session ID\",\n      \"properties\": {\n        \"dtype\": \"string\",\n        \"num_unique_values\": 16,\n        \"samples\": [\n          \"S001\",\n          \"S002\",\n          \"S006\"\n        ],\n        \"semantic_type\": \"\",\n        \"description\": \"\"\n      }\n    },\n    {\n      \"column\": \"User ID\",\n      \"properties\": {\n        \"dtype\": \"string\",\n        \"num_unique_values\": 8,\n        \"samples\": [\n          \"U002\",\n          \"U006\",\n          \"U001\"\n        ],\n        \"semantic_type\": \"\",\n        \"description\": \"\"\n      }\n    },\n    {\n      \"column\": \"Dish Name\",\n      \"properties\": {\n        \"dtype\": \"category\",\n        \"num_unique_values\": 6,\n        \"samples\": [\n          \"Spaghetti\",\n          \"Caesar Salad\",\n          \"Oatmeal\"\n        ],\n        \"semantic_type\": \"\",\n        \"description\": \"\"\n      }\n    },\n    {\n      \"column\": \"Meal Type\",\n      \"properties\": {\n        \"dtype\": \"category\",\n        \"num_unique_values\": 3,\n        \"samples\": [\n          \"Dinner\",\n          \"Lunch\",\n          \"Breakfast\"\n        ],\n        \"semantic_type\": \"\",\n        \"description\": \"\"\n      }\n    },\n    {\n      \"column\": \"Session Start\",\n      \"properties\": {\n        \"dtype\": \"date\",\n        \"min\": \"2024-12-01 12:00:00\",\n        \"max\": \"2024-12-08 19:30:00\",\n        \"num_unique_values\": 16,\n        \"samples\": [\n          \"2024-12-01 19:00:00\",\n          \"2024-12-01 12:00:00\",\n          \"2024-12-03 18:30:00\"\n        ],\n        \"semantic_type\": \"\",\n        \"description\": \"\"\n      }\n    },\n    {\n      \"column\": \"Session End\",\n      \"properties\": {\n        \"dtype\": \"date\",\n        \"min\": \"2024-12-01 12:20:00\",\n        \"max\": \"2024-12-08 20:10:00\",\n        \"num_unique_values\": 16,\n        \"samples\": [\n          \"2024-12-01 19:30:00\",\n          \"2024-12-01 12:20:00\",\n          \"2024-12-03 19:00:00\"\n        ],\n        \"semantic_type\": \"\",\n        \"description\": \"\"\n      }\n    },\n    {\n      \"column\": \"Duration (mins)\",\n      \"properties\": {\n        \"dtype\": \"number\",\n        \"std\": 10,\n        \"min\": 10,\n        \"max\": 45,\n        \"num_unique_values\": 6,\n        \"samples\": [\n          30,\n          20,\n          10\n        ],\n        \"semantic_type\": \"\",\n        \"description\": \"\"\n      }\n    },\n    {\n      \"column\": \"Session Rating\",\n      \"properties\": {\n        \"dtype\": \"number\",\n        \"std\": 0.2926174977679906,\n        \"min\": 4.0,\n        \"max\": 5.0,\n        \"num_unique_values\": 11,\n        \"samples\": [\n          4.3,\n          4.5,\n          4.1\n        ],\n        \"semantic_type\": \"\",\n        \"description\": \"\"\n      }\n    }\n  ]\n}"
            }
          },
          "metadata": {},
          "execution_count": 8
        }
      ]
    },
    {
      "cell_type": "code",
      "source": [
        "cooking_sessions.info()"
      ],
      "metadata": {
        "colab": {
          "base_uri": "https://localhost:8080/"
        },
        "id": "RsgyJHSqVdfL",
        "outputId": "b1126aa3-2495-4df5-a70c-b33014c81118"
      },
      "execution_count": 15,
      "outputs": [
        {
          "output_type": "stream",
          "name": "stdout",
          "text": [
            "<class 'pandas.core.frame.DataFrame'>\n",
            "RangeIndex: 16 entries, 0 to 15\n",
            "Data columns (total 8 columns):\n",
            " #   Column           Non-Null Count  Dtype         \n",
            "---  ------           --------------  -----         \n",
            " 0   Session ID       16 non-null     object        \n",
            " 1   User ID          16 non-null     object        \n",
            " 2   Dish Name        16 non-null     object        \n",
            " 3   Meal Type        16 non-null     object        \n",
            " 4   Session Start    16 non-null     datetime64[ns]\n",
            " 5   Session End      16 non-null     datetime64[ns]\n",
            " 6   Duration (mins)  16 non-null     int64         \n",
            " 7   Session Rating   16 non-null     float64       \n",
            "dtypes: datetime64[ns](2), float64(1), int64(1), object(4)\n",
            "memory usage: 1.1+ KB\n"
          ]
        }
      ]
    },
    {
      "cell_type": "code",
      "source": [
        "order_details.head()"
      ],
      "metadata": {
        "colab": {
          "base_uri": "https://localhost:8080/",
          "height": 206
        },
        "id": "XBDyMRjuUcVW",
        "outputId": "f73eb8e9-383c-4e31-cdd9-9c9b8d34e302"
      },
      "execution_count": 9,
      "outputs": [
        {
          "output_type": "execute_result",
          "data": {
            "text/plain": [
              "   Order ID User ID Order Date  Meal Type        Dish Name Order Status  \\\n",
              "0      1001    U001 2024-12-01     Dinner        Spaghetti    Completed   \n",
              "1      1002    U002 2024-12-01      Lunch     Caesar Salad    Completed   \n",
              "2      1003    U003 2024-12-02     Dinner  Grilled Chicken     Canceled   \n",
              "3      1004    U001 2024-12-02  Breakfast         Pancakes    Completed   \n",
              "4      1005    U004 2024-12-03      Lunch     Caesar Salad    Completed   \n",
              "\n",
              "   Amount (USD) Time of Day  Rating Session ID  \n",
              "0          15.0       Night     5.0       S001  \n",
              "1          10.0         Day     4.0       S002  \n",
              "2          12.5       Night     NaN       S003  \n",
              "3           8.0     Morning     4.0       S004  \n",
              "4           9.0         Day     4.0       S005  "
            ],
            "text/html": [
              "\n",
              "  <div id=\"df-3071dea0-efea-436e-9e1c-fa048c5c3cbe\" class=\"colab-df-container\">\n",
              "    <div>\n",
              "<style scoped>\n",
              "    .dataframe tbody tr th:only-of-type {\n",
              "        vertical-align: middle;\n",
              "    }\n",
              "\n",
              "    .dataframe tbody tr th {\n",
              "        vertical-align: top;\n",
              "    }\n",
              "\n",
              "    .dataframe thead th {\n",
              "        text-align: right;\n",
              "    }\n",
              "</style>\n",
              "<table border=\"1\" class=\"dataframe\">\n",
              "  <thead>\n",
              "    <tr style=\"text-align: right;\">\n",
              "      <th></th>\n",
              "      <th>Order ID</th>\n",
              "      <th>User ID</th>\n",
              "      <th>Order Date</th>\n",
              "      <th>Meal Type</th>\n",
              "      <th>Dish Name</th>\n",
              "      <th>Order Status</th>\n",
              "      <th>Amount (USD)</th>\n",
              "      <th>Time of Day</th>\n",
              "      <th>Rating</th>\n",
              "      <th>Session ID</th>\n",
              "    </tr>\n",
              "  </thead>\n",
              "  <tbody>\n",
              "    <tr>\n",
              "      <th>0</th>\n",
              "      <td>1001</td>\n",
              "      <td>U001</td>\n",
              "      <td>2024-12-01</td>\n",
              "      <td>Dinner</td>\n",
              "      <td>Spaghetti</td>\n",
              "      <td>Completed</td>\n",
              "      <td>15.0</td>\n",
              "      <td>Night</td>\n",
              "      <td>5.0</td>\n",
              "      <td>S001</td>\n",
              "    </tr>\n",
              "    <tr>\n",
              "      <th>1</th>\n",
              "      <td>1002</td>\n",
              "      <td>U002</td>\n",
              "      <td>2024-12-01</td>\n",
              "      <td>Lunch</td>\n",
              "      <td>Caesar Salad</td>\n",
              "      <td>Completed</td>\n",
              "      <td>10.0</td>\n",
              "      <td>Day</td>\n",
              "      <td>4.0</td>\n",
              "      <td>S002</td>\n",
              "    </tr>\n",
              "    <tr>\n",
              "      <th>2</th>\n",
              "      <td>1003</td>\n",
              "      <td>U003</td>\n",
              "      <td>2024-12-02</td>\n",
              "      <td>Dinner</td>\n",
              "      <td>Grilled Chicken</td>\n",
              "      <td>Canceled</td>\n",
              "      <td>12.5</td>\n",
              "      <td>Night</td>\n",
              "      <td>NaN</td>\n",
              "      <td>S003</td>\n",
              "    </tr>\n",
              "    <tr>\n",
              "      <th>3</th>\n",
              "      <td>1004</td>\n",
              "      <td>U001</td>\n",
              "      <td>2024-12-02</td>\n",
              "      <td>Breakfast</td>\n",
              "      <td>Pancakes</td>\n",
              "      <td>Completed</td>\n",
              "      <td>8.0</td>\n",
              "      <td>Morning</td>\n",
              "      <td>4.0</td>\n",
              "      <td>S004</td>\n",
              "    </tr>\n",
              "    <tr>\n",
              "      <th>4</th>\n",
              "      <td>1005</td>\n",
              "      <td>U004</td>\n",
              "      <td>2024-12-03</td>\n",
              "      <td>Lunch</td>\n",
              "      <td>Caesar Salad</td>\n",
              "      <td>Completed</td>\n",
              "      <td>9.0</td>\n",
              "      <td>Day</td>\n",
              "      <td>4.0</td>\n",
              "      <td>S005</td>\n",
              "    </tr>\n",
              "  </tbody>\n",
              "</table>\n",
              "</div>\n",
              "    <div class=\"colab-df-buttons\">\n",
              "\n",
              "  <div class=\"colab-df-container\">\n",
              "    <button class=\"colab-df-convert\" onclick=\"convertToInteractive('df-3071dea0-efea-436e-9e1c-fa048c5c3cbe')\"\n",
              "            title=\"Convert this dataframe to an interactive table.\"\n",
              "            style=\"display:none;\">\n",
              "\n",
              "  <svg xmlns=\"http://www.w3.org/2000/svg\" height=\"24px\" viewBox=\"0 -960 960 960\">\n",
              "    <path d=\"M120-120v-720h720v720H120Zm60-500h600v-160H180v160Zm220 220h160v-160H400v160Zm0 220h160v-160H400v160ZM180-400h160v-160H180v160Zm440 0h160v-160H620v160ZM180-180h160v-160H180v160Zm440 0h160v-160H620v160Z\"/>\n",
              "  </svg>\n",
              "    </button>\n",
              "\n",
              "  <style>\n",
              "    .colab-df-container {\n",
              "      display:flex;\n",
              "      gap: 12px;\n",
              "    }\n",
              "\n",
              "    .colab-df-convert {\n",
              "      background-color: #E8F0FE;\n",
              "      border: none;\n",
              "      border-radius: 50%;\n",
              "      cursor: pointer;\n",
              "      display: none;\n",
              "      fill: #1967D2;\n",
              "      height: 32px;\n",
              "      padding: 0 0 0 0;\n",
              "      width: 32px;\n",
              "    }\n",
              "\n",
              "    .colab-df-convert:hover {\n",
              "      background-color: #E2EBFA;\n",
              "      box-shadow: 0px 1px 2px rgba(60, 64, 67, 0.3), 0px 1px 3px 1px rgba(60, 64, 67, 0.15);\n",
              "      fill: #174EA6;\n",
              "    }\n",
              "\n",
              "    .colab-df-buttons div {\n",
              "      margin-bottom: 4px;\n",
              "    }\n",
              "\n",
              "    [theme=dark] .colab-df-convert {\n",
              "      background-color: #3B4455;\n",
              "      fill: #D2E3FC;\n",
              "    }\n",
              "\n",
              "    [theme=dark] .colab-df-convert:hover {\n",
              "      background-color: #434B5C;\n",
              "      box-shadow: 0px 1px 3px 1px rgba(0, 0, 0, 0.15);\n",
              "      filter: drop-shadow(0px 1px 2px rgba(0, 0, 0, 0.3));\n",
              "      fill: #FFFFFF;\n",
              "    }\n",
              "  </style>\n",
              "\n",
              "    <script>\n",
              "      const buttonEl =\n",
              "        document.querySelector('#df-3071dea0-efea-436e-9e1c-fa048c5c3cbe button.colab-df-convert');\n",
              "      buttonEl.style.display =\n",
              "        google.colab.kernel.accessAllowed ? 'block' : 'none';\n",
              "\n",
              "      async function convertToInteractive(key) {\n",
              "        const element = document.querySelector('#df-3071dea0-efea-436e-9e1c-fa048c5c3cbe');\n",
              "        const dataTable =\n",
              "          await google.colab.kernel.invokeFunction('convertToInteractive',\n",
              "                                                    [key], {});\n",
              "        if (!dataTable) return;\n",
              "\n",
              "        const docLinkHtml = 'Like what you see? Visit the ' +\n",
              "          '<a target=\"_blank\" href=https://colab.research.google.com/notebooks/data_table.ipynb>data table notebook</a>'\n",
              "          + ' to learn more about interactive tables.';\n",
              "        element.innerHTML = '';\n",
              "        dataTable['output_type'] = 'display_data';\n",
              "        await google.colab.output.renderOutput(dataTable, element);\n",
              "        const docLink = document.createElement('div');\n",
              "        docLink.innerHTML = docLinkHtml;\n",
              "        element.appendChild(docLink);\n",
              "      }\n",
              "    </script>\n",
              "  </div>\n",
              "\n",
              "\n",
              "<div id=\"df-55dd4d4a-eac3-42b8-b405-99fa68a15864\">\n",
              "  <button class=\"colab-df-quickchart\" onclick=\"quickchart('df-55dd4d4a-eac3-42b8-b405-99fa68a15864')\"\n",
              "            title=\"Suggest charts\"\n",
              "            style=\"display:none;\">\n",
              "\n",
              "<svg xmlns=\"http://www.w3.org/2000/svg\" height=\"24px\"viewBox=\"0 0 24 24\"\n",
              "     width=\"24px\">\n",
              "    <g>\n",
              "        <path d=\"M19 3H5c-1.1 0-2 .9-2 2v14c0 1.1.9 2 2 2h14c1.1 0 2-.9 2-2V5c0-1.1-.9-2-2-2zM9 17H7v-7h2v7zm4 0h-2V7h2v10zm4 0h-2v-4h2v4z\"/>\n",
              "    </g>\n",
              "</svg>\n",
              "  </button>\n",
              "\n",
              "<style>\n",
              "  .colab-df-quickchart {\n",
              "      --bg-color: #E8F0FE;\n",
              "      --fill-color: #1967D2;\n",
              "      --hover-bg-color: #E2EBFA;\n",
              "      --hover-fill-color: #174EA6;\n",
              "      --disabled-fill-color: #AAA;\n",
              "      --disabled-bg-color: #DDD;\n",
              "  }\n",
              "\n",
              "  [theme=dark] .colab-df-quickchart {\n",
              "      --bg-color: #3B4455;\n",
              "      --fill-color: #D2E3FC;\n",
              "      --hover-bg-color: #434B5C;\n",
              "      --hover-fill-color: #FFFFFF;\n",
              "      --disabled-bg-color: #3B4455;\n",
              "      --disabled-fill-color: #666;\n",
              "  }\n",
              "\n",
              "  .colab-df-quickchart {\n",
              "    background-color: var(--bg-color);\n",
              "    border: none;\n",
              "    border-radius: 50%;\n",
              "    cursor: pointer;\n",
              "    display: none;\n",
              "    fill: var(--fill-color);\n",
              "    height: 32px;\n",
              "    padding: 0;\n",
              "    width: 32px;\n",
              "  }\n",
              "\n",
              "  .colab-df-quickchart:hover {\n",
              "    background-color: var(--hover-bg-color);\n",
              "    box-shadow: 0 1px 2px rgba(60, 64, 67, 0.3), 0 1px 3px 1px rgba(60, 64, 67, 0.15);\n",
              "    fill: var(--button-hover-fill-color);\n",
              "  }\n",
              "\n",
              "  .colab-df-quickchart-complete:disabled,\n",
              "  .colab-df-quickchart-complete:disabled:hover {\n",
              "    background-color: var(--disabled-bg-color);\n",
              "    fill: var(--disabled-fill-color);\n",
              "    box-shadow: none;\n",
              "  }\n",
              "\n",
              "  .colab-df-spinner {\n",
              "    border: 2px solid var(--fill-color);\n",
              "    border-color: transparent;\n",
              "    border-bottom-color: var(--fill-color);\n",
              "    animation:\n",
              "      spin 1s steps(1) infinite;\n",
              "  }\n",
              "\n",
              "  @keyframes spin {\n",
              "    0% {\n",
              "      border-color: transparent;\n",
              "      border-bottom-color: var(--fill-color);\n",
              "      border-left-color: var(--fill-color);\n",
              "    }\n",
              "    20% {\n",
              "      border-color: transparent;\n",
              "      border-left-color: var(--fill-color);\n",
              "      border-top-color: var(--fill-color);\n",
              "    }\n",
              "    30% {\n",
              "      border-color: transparent;\n",
              "      border-left-color: var(--fill-color);\n",
              "      border-top-color: var(--fill-color);\n",
              "      border-right-color: var(--fill-color);\n",
              "    }\n",
              "    40% {\n",
              "      border-color: transparent;\n",
              "      border-right-color: var(--fill-color);\n",
              "      border-top-color: var(--fill-color);\n",
              "    }\n",
              "    60% {\n",
              "      border-color: transparent;\n",
              "      border-right-color: var(--fill-color);\n",
              "    }\n",
              "    80% {\n",
              "      border-color: transparent;\n",
              "      border-right-color: var(--fill-color);\n",
              "      border-bottom-color: var(--fill-color);\n",
              "    }\n",
              "    90% {\n",
              "      border-color: transparent;\n",
              "      border-bottom-color: var(--fill-color);\n",
              "    }\n",
              "  }\n",
              "</style>\n",
              "\n",
              "  <script>\n",
              "    async function quickchart(key) {\n",
              "      const quickchartButtonEl =\n",
              "        document.querySelector('#' + key + ' button');\n",
              "      quickchartButtonEl.disabled = true;  // To prevent multiple clicks.\n",
              "      quickchartButtonEl.classList.add('colab-df-spinner');\n",
              "      try {\n",
              "        const charts = await google.colab.kernel.invokeFunction(\n",
              "            'suggestCharts', [key], {});\n",
              "      } catch (error) {\n",
              "        console.error('Error during call to suggestCharts:', error);\n",
              "      }\n",
              "      quickchartButtonEl.classList.remove('colab-df-spinner');\n",
              "      quickchartButtonEl.classList.add('colab-df-quickchart-complete');\n",
              "    }\n",
              "    (() => {\n",
              "      let quickchartButtonEl =\n",
              "        document.querySelector('#df-55dd4d4a-eac3-42b8-b405-99fa68a15864 button');\n",
              "      quickchartButtonEl.style.display =\n",
              "        google.colab.kernel.accessAllowed ? 'block' : 'none';\n",
              "    })();\n",
              "  </script>\n",
              "</div>\n",
              "\n",
              "    </div>\n",
              "  </div>\n"
            ],
            "application/vnd.google.colaboratory.intrinsic+json": {
              "type": "dataframe",
              "variable_name": "order_details",
              "summary": "{\n  \"name\": \"order_details\",\n  \"rows\": 16,\n  \"fields\": [\n    {\n      \"column\": \"Order ID\",\n      \"properties\": {\n        \"dtype\": \"number\",\n        \"std\": 4,\n        \"min\": 1001,\n        \"max\": 1016,\n        \"num_unique_values\": 16,\n        \"samples\": [\n          1001,\n          1002,\n          1006\n        ],\n        \"semantic_type\": \"\",\n        \"description\": \"\"\n      }\n    },\n    {\n      \"column\": \"User ID\",\n      \"properties\": {\n        \"dtype\": \"string\",\n        \"num_unique_values\": 8,\n        \"samples\": [\n          \"U002\",\n          \"U006\",\n          \"U001\"\n        ],\n        \"semantic_type\": \"\",\n        \"description\": \"\"\n      }\n    },\n    {\n      \"column\": \"Order Date\",\n      \"properties\": {\n        \"dtype\": \"date\",\n        \"min\": \"2024-12-01 00:00:00\",\n        \"max\": \"2024-12-08 00:00:00\",\n        \"num_unique_values\": 8,\n        \"samples\": [\n          \"2024-12-02 00:00:00\",\n          \"2024-12-06 00:00:00\",\n          \"2024-12-01 00:00:00\"\n        ],\n        \"semantic_type\": \"\",\n        \"description\": \"\"\n      }\n    },\n    {\n      \"column\": \"Meal Type\",\n      \"properties\": {\n        \"dtype\": \"category\",\n        \"num_unique_values\": 3,\n        \"samples\": [\n          \"Dinner\",\n          \"Lunch\",\n          \"Breakfast\"\n        ],\n        \"semantic_type\": \"\",\n        \"description\": \"\"\n      }\n    },\n    {\n      \"column\": \"Dish Name\",\n      \"properties\": {\n        \"dtype\": \"category\",\n        \"num_unique_values\": 6,\n        \"samples\": [\n          \"Spaghetti\",\n          \"Caesar Salad\",\n          \"Oatmeal\"\n        ],\n        \"semantic_type\": \"\",\n        \"description\": \"\"\n      }\n    },\n    {\n      \"column\": \"Order Status\",\n      \"properties\": {\n        \"dtype\": \"category\",\n        \"num_unique_values\": 2,\n        \"samples\": [\n          \"Canceled\",\n          \"Completed\"\n        ],\n        \"semantic_type\": \"\",\n        \"description\": \"\"\n      }\n    },\n    {\n      \"column\": \"Amount (USD)\",\n      \"properties\": {\n        \"dtype\": \"number\",\n        \"std\": 2.4358434541926814,\n        \"min\": 7.0,\n        \"max\": 15.0,\n        \"num_unique_values\": 12,\n        \"samples\": [\n          8.5,\n          7.0\n        ],\n        \"semantic_type\": \"\",\n        \"description\": \"\"\n      }\n    },\n    {\n      \"column\": \"Time of Day\",\n      \"properties\": {\n        \"dtype\": \"category\",\n        \"num_unique_values\": 3,\n        \"samples\": [\n          \"Night\",\n          \"Day\"\n        ],\n        \"semantic_type\": \"\",\n        \"description\": \"\"\n      }\n    },\n    {\n      \"column\": \"Rating\",\n      \"properties\": {\n        \"dtype\": \"number\",\n        \"std\": 0.4688072309384954,\n        \"min\": 4.0,\n        \"max\": 5.0,\n        \"num_unique_values\": 2,\n        \"samples\": [\n          4.0,\n          5.0\n        ],\n        \"semantic_type\": \"\",\n        \"description\": \"\"\n      }\n    },\n    {\n      \"column\": \"Session ID\",\n      \"properties\": {\n        \"dtype\": \"string\",\n        \"num_unique_values\": 16,\n        \"samples\": [\n          \"S001\",\n          \"S002\"\n        ],\n        \"semantic_type\": \"\",\n        \"description\": \"\"\n      }\n    }\n  ]\n}"
            }
          },
          "metadata": {},
          "execution_count": 9
        }
      ]
    },
    {
      "cell_type": "code",
      "source": [
        "order_details.info()"
      ],
      "metadata": {
        "colab": {
          "base_uri": "https://localhost:8080/"
        },
        "id": "q0LKYR6EVgC6",
        "outputId": "3116ae57-ee88-4a71-ea9a-ca44055642c9"
      },
      "execution_count": 16,
      "outputs": [
        {
          "output_type": "stream",
          "name": "stdout",
          "text": [
            "<class 'pandas.core.frame.DataFrame'>\n",
            "RangeIndex: 16 entries, 0 to 15\n",
            "Data columns (total 10 columns):\n",
            " #   Column        Non-Null Count  Dtype         \n",
            "---  ------        --------------  -----         \n",
            " 0   Order ID      16 non-null     int64         \n",
            " 1   User ID       16 non-null     object        \n",
            " 2   Order Date    16 non-null     datetime64[ns]\n",
            " 3   Meal Type     16 non-null     object        \n",
            " 4   Dish Name     16 non-null     object        \n",
            " 5   Order Status  16 non-null     object        \n",
            " 6   Amount (USD)  16 non-null     float64       \n",
            " 7   Time of Day   16 non-null     object        \n",
            " 8   Rating        14 non-null     float64       \n",
            " 9   Session ID    16 non-null     object        \n",
            "dtypes: datetime64[ns](1), float64(2), int64(1), object(6)\n",
            "memory usage: 1.4+ KB\n"
          ]
        }
      ]
    },
    {
      "cell_type": "markdown",
      "source": [
        "# 2. Identifying and handling missing values"
      ],
      "metadata": {
        "id": "8uPi7n_pVoIv"
      }
    },
    {
      "cell_type": "code",
      "source": [
        "user_details.isnull().sum()"
      ],
      "metadata": {
        "colab": {
          "base_uri": "https://localhost:8080/",
          "height": 366
        },
        "id": "aBQSVlxDUcaL",
        "outputId": "8f5d9116-7a70-43a6-90f0-354f7972ad2a"
      },
      "execution_count": 6,
      "outputs": [
        {
          "output_type": "execute_result",
          "data": {
            "text/plain": [
              "User ID              0\n",
              "User Name            0\n",
              "Age                  0\n",
              "Location             0\n",
              "Registration Date    0\n",
              "Phone                0\n",
              "Email                0\n",
              "Favorite Meal        0\n",
              "Total Orders         0\n",
              "dtype: int64"
            ],
            "text/html": [
              "<div>\n",
              "<style scoped>\n",
              "    .dataframe tbody tr th:only-of-type {\n",
              "        vertical-align: middle;\n",
              "    }\n",
              "\n",
              "    .dataframe tbody tr th {\n",
              "        vertical-align: top;\n",
              "    }\n",
              "\n",
              "    .dataframe thead th {\n",
              "        text-align: right;\n",
              "    }\n",
              "</style>\n",
              "<table border=\"1\" class=\"dataframe\">\n",
              "  <thead>\n",
              "    <tr style=\"text-align: right;\">\n",
              "      <th></th>\n",
              "      <th>0</th>\n",
              "    </tr>\n",
              "  </thead>\n",
              "  <tbody>\n",
              "    <tr>\n",
              "      <th>User ID</th>\n",
              "      <td>0</td>\n",
              "    </tr>\n",
              "    <tr>\n",
              "      <th>User Name</th>\n",
              "      <td>0</td>\n",
              "    </tr>\n",
              "    <tr>\n",
              "      <th>Age</th>\n",
              "      <td>0</td>\n",
              "    </tr>\n",
              "    <tr>\n",
              "      <th>Location</th>\n",
              "      <td>0</td>\n",
              "    </tr>\n",
              "    <tr>\n",
              "      <th>Registration Date</th>\n",
              "      <td>0</td>\n",
              "    </tr>\n",
              "    <tr>\n",
              "      <th>Phone</th>\n",
              "      <td>0</td>\n",
              "    </tr>\n",
              "    <tr>\n",
              "      <th>Email</th>\n",
              "      <td>0</td>\n",
              "    </tr>\n",
              "    <tr>\n",
              "      <th>Favorite Meal</th>\n",
              "      <td>0</td>\n",
              "    </tr>\n",
              "    <tr>\n",
              "      <th>Total Orders</th>\n",
              "      <td>0</td>\n",
              "    </tr>\n",
              "  </tbody>\n",
              "</table>\n",
              "</div><br><label><b>dtype:</b> int64</label>"
            ]
          },
          "metadata": {},
          "execution_count": 6
        }
      ]
    },
    {
      "cell_type": "code",
      "source": [
        "cooking_sessions.isnull().sum()"
      ],
      "metadata": {
        "colab": {
          "base_uri": "https://localhost:8080/",
          "height": 335
        },
        "id": "-HGjN02aUcdC",
        "outputId": "8173581b-3cee-4859-83ec-916fa36613ea"
      },
      "execution_count": 7,
      "outputs": [
        {
          "output_type": "execute_result",
          "data": {
            "text/plain": [
              "Session ID         0\n",
              "User ID            0\n",
              "Dish Name          0\n",
              "Meal Type          0\n",
              "Session Start      0\n",
              "Session End        0\n",
              "Duration (mins)    0\n",
              "Session Rating     0\n",
              "dtype: int64"
            ],
            "text/html": [
              "<div>\n",
              "<style scoped>\n",
              "    .dataframe tbody tr th:only-of-type {\n",
              "        vertical-align: middle;\n",
              "    }\n",
              "\n",
              "    .dataframe tbody tr th {\n",
              "        vertical-align: top;\n",
              "    }\n",
              "\n",
              "    .dataframe thead th {\n",
              "        text-align: right;\n",
              "    }\n",
              "</style>\n",
              "<table border=\"1\" class=\"dataframe\">\n",
              "  <thead>\n",
              "    <tr style=\"text-align: right;\">\n",
              "      <th></th>\n",
              "      <th>0</th>\n",
              "    </tr>\n",
              "  </thead>\n",
              "  <tbody>\n",
              "    <tr>\n",
              "      <th>Session ID</th>\n",
              "      <td>0</td>\n",
              "    </tr>\n",
              "    <tr>\n",
              "      <th>User ID</th>\n",
              "      <td>0</td>\n",
              "    </tr>\n",
              "    <tr>\n",
              "      <th>Dish Name</th>\n",
              "      <td>0</td>\n",
              "    </tr>\n",
              "    <tr>\n",
              "      <th>Meal Type</th>\n",
              "      <td>0</td>\n",
              "    </tr>\n",
              "    <tr>\n",
              "      <th>Session Start</th>\n",
              "      <td>0</td>\n",
              "    </tr>\n",
              "    <tr>\n",
              "      <th>Session End</th>\n",
              "      <td>0</td>\n",
              "    </tr>\n",
              "    <tr>\n",
              "      <th>Duration (mins)</th>\n",
              "      <td>0</td>\n",
              "    </tr>\n",
              "    <tr>\n",
              "      <th>Session Rating</th>\n",
              "      <td>0</td>\n",
              "    </tr>\n",
              "  </tbody>\n",
              "</table>\n",
              "</div><br><label><b>dtype:</b> int64</label>"
            ]
          },
          "metadata": {},
          "execution_count": 7
        }
      ]
    },
    {
      "cell_type": "code",
      "source": [
        "order_details.isnull().sum()"
      ],
      "metadata": {
        "colab": {
          "base_uri": "https://localhost:8080/",
          "height": 397
        },
        "id": "nc4FoAlwUcgN",
        "outputId": "8e5a866a-2878-4748-d372-91cc233e19c8"
      },
      "execution_count": 8,
      "outputs": [
        {
          "output_type": "execute_result",
          "data": {
            "text/plain": [
              "Order ID        0\n",
              "User ID         0\n",
              "Order Date      0\n",
              "Meal Type       0\n",
              "Dish Name       0\n",
              "Order Status    0\n",
              "Amount (USD)    0\n",
              "Time of Day     0\n",
              "Rating          2\n",
              "Session ID      0\n",
              "dtype: int64"
            ],
            "text/html": [
              "<div>\n",
              "<style scoped>\n",
              "    .dataframe tbody tr th:only-of-type {\n",
              "        vertical-align: middle;\n",
              "    }\n",
              "\n",
              "    .dataframe tbody tr th {\n",
              "        vertical-align: top;\n",
              "    }\n",
              "\n",
              "    .dataframe thead th {\n",
              "        text-align: right;\n",
              "    }\n",
              "</style>\n",
              "<table border=\"1\" class=\"dataframe\">\n",
              "  <thead>\n",
              "    <tr style=\"text-align: right;\">\n",
              "      <th></th>\n",
              "      <th>0</th>\n",
              "    </tr>\n",
              "  </thead>\n",
              "  <tbody>\n",
              "    <tr>\n",
              "      <th>Order ID</th>\n",
              "      <td>0</td>\n",
              "    </tr>\n",
              "    <tr>\n",
              "      <th>User ID</th>\n",
              "      <td>0</td>\n",
              "    </tr>\n",
              "    <tr>\n",
              "      <th>Order Date</th>\n",
              "      <td>0</td>\n",
              "    </tr>\n",
              "    <tr>\n",
              "      <th>Meal Type</th>\n",
              "      <td>0</td>\n",
              "    </tr>\n",
              "    <tr>\n",
              "      <th>Dish Name</th>\n",
              "      <td>0</td>\n",
              "    </tr>\n",
              "    <tr>\n",
              "      <th>Order Status</th>\n",
              "      <td>0</td>\n",
              "    </tr>\n",
              "    <tr>\n",
              "      <th>Amount (USD)</th>\n",
              "      <td>0</td>\n",
              "    </tr>\n",
              "    <tr>\n",
              "      <th>Time of Day</th>\n",
              "      <td>0</td>\n",
              "    </tr>\n",
              "    <tr>\n",
              "      <th>Rating</th>\n",
              "      <td>2</td>\n",
              "    </tr>\n",
              "    <tr>\n",
              "      <th>Session ID</th>\n",
              "      <td>0</td>\n",
              "    </tr>\n",
              "  </tbody>\n",
              "</table>\n",
              "</div><br><label><b>dtype:</b> int64</label>"
            ]
          },
          "metadata": {},
          "execution_count": 8
        }
      ]
    },
    {
      "cell_type": "markdown",
      "source": [
        "2.1. Handling the  missing numerical values by using the KNN Imputer"
      ],
      "metadata": {
        "id": "ZIXeNQFFV73m"
      }
    },
    {
      "cell_type": "code",
      "source": [
        "from sklearn.impute import KNNImputer"
      ],
      "metadata": {
        "id": "JOfngklVHwHy"
      },
      "execution_count": 9,
      "outputs": []
    },
    {
      "cell_type": "code",
      "source": [
        "imputer = KNNImputer(n_neighbors=5)"
      ],
      "metadata": {
        "id": "xklU0AwpV6m9"
      },
      "execution_count": 10,
      "outputs": []
    },
    {
      "cell_type": "code",
      "source": [
        "order_details[['Rating', 'Amount (USD)']] = imputer.fit_transform(order_details[['Rating', 'Amount (USD)']])\n"
      ],
      "metadata": {
        "id": "dJlzs5B7V34E"
      },
      "execution_count": 11,
      "outputs": []
    },
    {
      "cell_type": "code",
      "source": [
        "order_details.isnull().sum()"
      ],
      "metadata": {
        "colab": {
          "base_uri": "https://localhost:8080/",
          "height": 397
        },
        "id": "KLotaBQ4V31d",
        "outputId": "45306ca1-b9d0-4936-a039-5eb0e7a13b9e"
      },
      "execution_count": 12,
      "outputs": [
        {
          "output_type": "execute_result",
          "data": {
            "text/plain": [
              "Order ID        0\n",
              "User ID         0\n",
              "Order Date      0\n",
              "Meal Type       0\n",
              "Dish Name       0\n",
              "Order Status    0\n",
              "Amount (USD)    0\n",
              "Time of Day     0\n",
              "Rating          0\n",
              "Session ID      0\n",
              "dtype: int64"
            ],
            "text/html": [
              "<div>\n",
              "<style scoped>\n",
              "    .dataframe tbody tr th:only-of-type {\n",
              "        vertical-align: middle;\n",
              "    }\n",
              "\n",
              "    .dataframe tbody tr th {\n",
              "        vertical-align: top;\n",
              "    }\n",
              "\n",
              "    .dataframe thead th {\n",
              "        text-align: right;\n",
              "    }\n",
              "</style>\n",
              "<table border=\"1\" class=\"dataframe\">\n",
              "  <thead>\n",
              "    <tr style=\"text-align: right;\">\n",
              "      <th></th>\n",
              "      <th>0</th>\n",
              "    </tr>\n",
              "  </thead>\n",
              "  <tbody>\n",
              "    <tr>\n",
              "      <th>Order ID</th>\n",
              "      <td>0</td>\n",
              "    </tr>\n",
              "    <tr>\n",
              "      <th>User ID</th>\n",
              "      <td>0</td>\n",
              "    </tr>\n",
              "    <tr>\n",
              "      <th>Order Date</th>\n",
              "      <td>0</td>\n",
              "    </tr>\n",
              "    <tr>\n",
              "      <th>Meal Type</th>\n",
              "      <td>0</td>\n",
              "    </tr>\n",
              "    <tr>\n",
              "      <th>Dish Name</th>\n",
              "      <td>0</td>\n",
              "    </tr>\n",
              "    <tr>\n",
              "      <th>Order Status</th>\n",
              "      <td>0</td>\n",
              "    </tr>\n",
              "    <tr>\n",
              "      <th>Amount (USD)</th>\n",
              "      <td>0</td>\n",
              "    </tr>\n",
              "    <tr>\n",
              "      <th>Time of Day</th>\n",
              "      <td>0</td>\n",
              "    </tr>\n",
              "    <tr>\n",
              "      <th>Rating</th>\n",
              "      <td>0</td>\n",
              "    </tr>\n",
              "    <tr>\n",
              "      <th>Session ID</th>\n",
              "      <td>0</td>\n",
              "    </tr>\n",
              "  </tbody>\n",
              "</table>\n",
              "</div><br><label><b>dtype:</b> int64</label>"
            ]
          },
          "metadata": {},
          "execution_count": 12
        }
      ]
    },
    {
      "cell_type": "markdown",
      "source": [
        "# 3.Renaming the required columns."
      ],
      "metadata": {
        "id": "DvESnVyQWM2v"
      }
    },
    {
      "cell_type": "code",
      "source": [
        "order_details.rename(columns={'Amount (USD)': 'Amount'}, inplace=True)"
      ],
      "metadata": {
        "id": "4iPZ6KyeWPCX"
      },
      "execution_count": 13,
      "outputs": []
    },
    {
      "cell_type": "markdown",
      "source": [
        "# 4.Merging the Datasets"
      ],
      "metadata": {
        "id": "hB_eiJwzWVD-"
      }
    },
    {
      "cell_type": "code",
      "source": [
        "merged_data = pd.merge(cooking_sessions, user_details, on='User ID', how='inner')"
      ],
      "metadata": {
        "id": "PJo_x_wjWOdP"
      },
      "execution_count": 14,
      "outputs": []
    },
    {
      "cell_type": "code",
      "source": [
        "merged_data = pd.merge(merged_data, order_details, on=['User ID', 'Session ID'], how='inner')"
      ],
      "metadata": {
        "id": "CsjCicxKV3yz"
      },
      "execution_count": 15,
      "outputs": []
    },
    {
      "cell_type": "code",
      "source": [
        "merged_data.head()"
      ],
      "metadata": {
        "colab": {
          "base_uri": "https://localhost:8080/",
          "height": 426
        },
        "id": "4zc_1V7HV3wM",
        "outputId": "c4cf33bc-8802-4a0c-ca05-0330229055db"
      },
      "execution_count": 51,
      "outputs": [
        {
          "output_type": "execute_result",
          "data": {
            "text/plain": [
              "  Session ID User ID      Dish Name_x Meal Type_x       Session Start  \\\n",
              "0       S001    U001        Spaghetti      Dinner 2024-12-01 19:00:00   \n",
              "1       S002    U002     Caesar Salad       Lunch 2024-12-01 12:00:00   \n",
              "2       S003    U003  Grilled Chicken      Dinner 2024-12-02 19:30:00   \n",
              "3       S004    U001         Pancakes   Breakfast 2024-12-02 07:30:00   \n",
              "4       S005    U004     Caesar Salad       Lunch 2024-12-03 13:00:00   \n",
              "\n",
              "          Session End  Duration (mins)  Session Rating      User Name  Age  \\\n",
              "0 2024-12-01 19:30:00               30             4.5  Alice Johnson   28   \n",
              "1 2024-12-01 12:20:00               20             4.0      Bob Smith   35   \n",
              "2 2024-12-02 20:10:00               40             4.8    Charlie Lee   42   \n",
              "3 2024-12-02 08:00:00               30             4.2  Alice Johnson   28   \n",
              "4 2024-12-03 13:15:00               15             4.7    David Brown   27   \n",
              "\n",
              "   ... Favorite Meal Total Orders Order ID Order Date Meal Type_y  \\\n",
              "0  ...        Dinner           12     1001 2024-12-01      Dinner   \n",
              "1  ...         Lunch            8     1002 2024-12-01       Lunch   \n",
              "2  ...     Breakfast           15     1003 2024-12-02      Dinner   \n",
              "3  ...        Dinner           12     1004 2024-12-02   Breakfast   \n",
              "4  ...        Dinner           10     1005 2024-12-03       Lunch   \n",
              "\n",
              "       Dish Name_y  Order Status Amount Time of Day Rating  \n",
              "0        Spaghetti     Completed   15.0       Night    5.0  \n",
              "1     Caesar Salad     Completed   10.0         Day    4.0  \n",
              "2  Grilled Chicken      Canceled   12.5       Night    4.6  \n",
              "3         Pancakes     Completed    8.0     Morning    4.0  \n",
              "4     Caesar Salad     Completed    9.0         Day    4.0  \n",
              "\n",
              "[5 rows x 24 columns]"
            ],
            "text/html": [
              "\n",
              "  <div id=\"df-cbd665dd-cf0e-43f4-85f9-62bb6a68931f\" class=\"colab-df-container\">\n",
              "    <div>\n",
              "<style scoped>\n",
              "    .dataframe tbody tr th:only-of-type {\n",
              "        vertical-align: middle;\n",
              "    }\n",
              "\n",
              "    .dataframe tbody tr th {\n",
              "        vertical-align: top;\n",
              "    }\n",
              "\n",
              "    .dataframe thead th {\n",
              "        text-align: right;\n",
              "    }\n",
              "</style>\n",
              "<table border=\"1\" class=\"dataframe\">\n",
              "  <thead>\n",
              "    <tr style=\"text-align: right;\">\n",
              "      <th></th>\n",
              "      <th>Session ID</th>\n",
              "      <th>User ID</th>\n",
              "      <th>Dish Name_x</th>\n",
              "      <th>Meal Type_x</th>\n",
              "      <th>Session Start</th>\n",
              "      <th>Session End</th>\n",
              "      <th>Duration (mins)</th>\n",
              "      <th>Session Rating</th>\n",
              "      <th>User Name</th>\n",
              "      <th>Age</th>\n",
              "      <th>...</th>\n",
              "      <th>Favorite Meal</th>\n",
              "      <th>Total Orders</th>\n",
              "      <th>Order ID</th>\n",
              "      <th>Order Date</th>\n",
              "      <th>Meal Type_y</th>\n",
              "      <th>Dish Name_y</th>\n",
              "      <th>Order Status</th>\n",
              "      <th>Amount</th>\n",
              "      <th>Time of Day</th>\n",
              "      <th>Rating</th>\n",
              "    </tr>\n",
              "  </thead>\n",
              "  <tbody>\n",
              "    <tr>\n",
              "      <th>0</th>\n",
              "      <td>S001</td>\n",
              "      <td>U001</td>\n",
              "      <td>Spaghetti</td>\n",
              "      <td>Dinner</td>\n",
              "      <td>2024-12-01 19:00:00</td>\n",
              "      <td>2024-12-01 19:30:00</td>\n",
              "      <td>30</td>\n",
              "      <td>4.5</td>\n",
              "      <td>Alice Johnson</td>\n",
              "      <td>28</td>\n",
              "      <td>...</td>\n",
              "      <td>Dinner</td>\n",
              "      <td>12</td>\n",
              "      <td>1001</td>\n",
              "      <td>2024-12-01</td>\n",
              "      <td>Dinner</td>\n",
              "      <td>Spaghetti</td>\n",
              "      <td>Completed</td>\n",
              "      <td>15.0</td>\n",
              "      <td>Night</td>\n",
              "      <td>5.0</td>\n",
              "    </tr>\n",
              "    <tr>\n",
              "      <th>1</th>\n",
              "      <td>S002</td>\n",
              "      <td>U002</td>\n",
              "      <td>Caesar Salad</td>\n",
              "      <td>Lunch</td>\n",
              "      <td>2024-12-01 12:00:00</td>\n",
              "      <td>2024-12-01 12:20:00</td>\n",
              "      <td>20</td>\n",
              "      <td>4.0</td>\n",
              "      <td>Bob Smith</td>\n",
              "      <td>35</td>\n",
              "      <td>...</td>\n",
              "      <td>Lunch</td>\n",
              "      <td>8</td>\n",
              "      <td>1002</td>\n",
              "      <td>2024-12-01</td>\n",
              "      <td>Lunch</td>\n",
              "      <td>Caesar Salad</td>\n",
              "      <td>Completed</td>\n",
              "      <td>10.0</td>\n",
              "      <td>Day</td>\n",
              "      <td>4.0</td>\n",
              "    </tr>\n",
              "    <tr>\n",
              "      <th>2</th>\n",
              "      <td>S003</td>\n",
              "      <td>U003</td>\n",
              "      <td>Grilled Chicken</td>\n",
              "      <td>Dinner</td>\n",
              "      <td>2024-12-02 19:30:00</td>\n",
              "      <td>2024-12-02 20:10:00</td>\n",
              "      <td>40</td>\n",
              "      <td>4.8</td>\n",
              "      <td>Charlie Lee</td>\n",
              "      <td>42</td>\n",
              "      <td>...</td>\n",
              "      <td>Breakfast</td>\n",
              "      <td>15</td>\n",
              "      <td>1003</td>\n",
              "      <td>2024-12-02</td>\n",
              "      <td>Dinner</td>\n",
              "      <td>Grilled Chicken</td>\n",
              "      <td>Canceled</td>\n",
              "      <td>12.5</td>\n",
              "      <td>Night</td>\n",
              "      <td>4.6</td>\n",
              "    </tr>\n",
              "    <tr>\n",
              "      <th>3</th>\n",
              "      <td>S004</td>\n",
              "      <td>U001</td>\n",
              "      <td>Pancakes</td>\n",
              "      <td>Breakfast</td>\n",
              "      <td>2024-12-02 07:30:00</td>\n",
              "      <td>2024-12-02 08:00:00</td>\n",
              "      <td>30</td>\n",
              "      <td>4.2</td>\n",
              "      <td>Alice Johnson</td>\n",
              "      <td>28</td>\n",
              "      <td>...</td>\n",
              "      <td>Dinner</td>\n",
              "      <td>12</td>\n",
              "      <td>1004</td>\n",
              "      <td>2024-12-02</td>\n",
              "      <td>Breakfast</td>\n",
              "      <td>Pancakes</td>\n",
              "      <td>Completed</td>\n",
              "      <td>8.0</td>\n",
              "      <td>Morning</td>\n",
              "      <td>4.0</td>\n",
              "    </tr>\n",
              "    <tr>\n",
              "      <th>4</th>\n",
              "      <td>S005</td>\n",
              "      <td>U004</td>\n",
              "      <td>Caesar Salad</td>\n",
              "      <td>Lunch</td>\n",
              "      <td>2024-12-03 13:00:00</td>\n",
              "      <td>2024-12-03 13:15:00</td>\n",
              "      <td>15</td>\n",
              "      <td>4.7</td>\n",
              "      <td>David Brown</td>\n",
              "      <td>27</td>\n",
              "      <td>...</td>\n",
              "      <td>Dinner</td>\n",
              "      <td>10</td>\n",
              "      <td>1005</td>\n",
              "      <td>2024-12-03</td>\n",
              "      <td>Lunch</td>\n",
              "      <td>Caesar Salad</td>\n",
              "      <td>Completed</td>\n",
              "      <td>9.0</td>\n",
              "      <td>Day</td>\n",
              "      <td>4.0</td>\n",
              "    </tr>\n",
              "  </tbody>\n",
              "</table>\n",
              "<p>5 rows × 24 columns</p>\n",
              "</div>\n",
              "    <div class=\"colab-df-buttons\">\n",
              "\n",
              "  <div class=\"colab-df-container\">\n",
              "    <button class=\"colab-df-convert\" onclick=\"convertToInteractive('df-cbd665dd-cf0e-43f4-85f9-62bb6a68931f')\"\n",
              "            title=\"Convert this dataframe to an interactive table.\"\n",
              "            style=\"display:none;\">\n",
              "\n",
              "  <svg xmlns=\"http://www.w3.org/2000/svg\" height=\"24px\" viewBox=\"0 -960 960 960\">\n",
              "    <path d=\"M120-120v-720h720v720H120Zm60-500h600v-160H180v160Zm220 220h160v-160H400v160Zm0 220h160v-160H400v160ZM180-400h160v-160H180v160Zm440 0h160v-160H620v160ZM180-180h160v-160H180v160Zm440 0h160v-160H620v160Z\"/>\n",
              "  </svg>\n",
              "    </button>\n",
              "\n",
              "  <style>\n",
              "    .colab-df-container {\n",
              "      display:flex;\n",
              "      gap: 12px;\n",
              "    }\n",
              "\n",
              "    .colab-df-convert {\n",
              "      background-color: #E8F0FE;\n",
              "      border: none;\n",
              "      border-radius: 50%;\n",
              "      cursor: pointer;\n",
              "      display: none;\n",
              "      fill: #1967D2;\n",
              "      height: 32px;\n",
              "      padding: 0 0 0 0;\n",
              "      width: 32px;\n",
              "    }\n",
              "\n",
              "    .colab-df-convert:hover {\n",
              "      background-color: #E2EBFA;\n",
              "      box-shadow: 0px 1px 2px rgba(60, 64, 67, 0.3), 0px 1px 3px 1px rgba(60, 64, 67, 0.15);\n",
              "      fill: #174EA6;\n",
              "    }\n",
              "\n",
              "    .colab-df-buttons div {\n",
              "      margin-bottom: 4px;\n",
              "    }\n",
              "\n",
              "    [theme=dark] .colab-df-convert {\n",
              "      background-color: #3B4455;\n",
              "      fill: #D2E3FC;\n",
              "    }\n",
              "\n",
              "    [theme=dark] .colab-df-convert:hover {\n",
              "      background-color: #434B5C;\n",
              "      box-shadow: 0px 1px 3px 1px rgba(0, 0, 0, 0.15);\n",
              "      filter: drop-shadow(0px 1px 2px rgba(0, 0, 0, 0.3));\n",
              "      fill: #FFFFFF;\n",
              "    }\n",
              "  </style>\n",
              "\n",
              "    <script>\n",
              "      const buttonEl =\n",
              "        document.querySelector('#df-cbd665dd-cf0e-43f4-85f9-62bb6a68931f button.colab-df-convert');\n",
              "      buttonEl.style.display =\n",
              "        google.colab.kernel.accessAllowed ? 'block' : 'none';\n",
              "\n",
              "      async function convertToInteractive(key) {\n",
              "        const element = document.querySelector('#df-cbd665dd-cf0e-43f4-85f9-62bb6a68931f');\n",
              "        const dataTable =\n",
              "          await google.colab.kernel.invokeFunction('convertToInteractive',\n",
              "                                                    [key], {});\n",
              "        if (!dataTable) return;\n",
              "\n",
              "        const docLinkHtml = 'Like what you see? Visit the ' +\n",
              "          '<a target=\"_blank\" href=https://colab.research.google.com/notebooks/data_table.ipynb>data table notebook</a>'\n",
              "          + ' to learn more about interactive tables.';\n",
              "        element.innerHTML = '';\n",
              "        dataTable['output_type'] = 'display_data';\n",
              "        await google.colab.output.renderOutput(dataTable, element);\n",
              "        const docLink = document.createElement('div');\n",
              "        docLink.innerHTML = docLinkHtml;\n",
              "        element.appendChild(docLink);\n",
              "      }\n",
              "    </script>\n",
              "  </div>\n",
              "\n",
              "\n",
              "<div id=\"df-cdd07bea-acc0-4f71-b6b0-480ddc7e2087\">\n",
              "  <button class=\"colab-df-quickchart\" onclick=\"quickchart('df-cdd07bea-acc0-4f71-b6b0-480ddc7e2087')\"\n",
              "            title=\"Suggest charts\"\n",
              "            style=\"display:none;\">\n",
              "\n",
              "<svg xmlns=\"http://www.w3.org/2000/svg\" height=\"24px\"viewBox=\"0 0 24 24\"\n",
              "     width=\"24px\">\n",
              "    <g>\n",
              "        <path d=\"M19 3H5c-1.1 0-2 .9-2 2v14c0 1.1.9 2 2 2h14c1.1 0 2-.9 2-2V5c0-1.1-.9-2-2-2zM9 17H7v-7h2v7zm4 0h-2V7h2v10zm4 0h-2v-4h2v4z\"/>\n",
              "    </g>\n",
              "</svg>\n",
              "  </button>\n",
              "\n",
              "<style>\n",
              "  .colab-df-quickchart {\n",
              "      --bg-color: #E8F0FE;\n",
              "      --fill-color: #1967D2;\n",
              "      --hover-bg-color: #E2EBFA;\n",
              "      --hover-fill-color: #174EA6;\n",
              "      --disabled-fill-color: #AAA;\n",
              "      --disabled-bg-color: #DDD;\n",
              "  }\n",
              "\n",
              "  [theme=dark] .colab-df-quickchart {\n",
              "      --bg-color: #3B4455;\n",
              "      --fill-color: #D2E3FC;\n",
              "      --hover-bg-color: #434B5C;\n",
              "      --hover-fill-color: #FFFFFF;\n",
              "      --disabled-bg-color: #3B4455;\n",
              "      --disabled-fill-color: #666;\n",
              "  }\n",
              "\n",
              "  .colab-df-quickchart {\n",
              "    background-color: var(--bg-color);\n",
              "    border: none;\n",
              "    border-radius: 50%;\n",
              "    cursor: pointer;\n",
              "    display: none;\n",
              "    fill: var(--fill-color);\n",
              "    height: 32px;\n",
              "    padding: 0;\n",
              "    width: 32px;\n",
              "  }\n",
              "\n",
              "  .colab-df-quickchart:hover {\n",
              "    background-color: var(--hover-bg-color);\n",
              "    box-shadow: 0 1px 2px rgba(60, 64, 67, 0.3), 0 1px 3px 1px rgba(60, 64, 67, 0.15);\n",
              "    fill: var(--button-hover-fill-color);\n",
              "  }\n",
              "\n",
              "  .colab-df-quickchart-complete:disabled,\n",
              "  .colab-df-quickchart-complete:disabled:hover {\n",
              "    background-color: var(--disabled-bg-color);\n",
              "    fill: var(--disabled-fill-color);\n",
              "    box-shadow: none;\n",
              "  }\n",
              "\n",
              "  .colab-df-spinner {\n",
              "    border: 2px solid var(--fill-color);\n",
              "    border-color: transparent;\n",
              "    border-bottom-color: var(--fill-color);\n",
              "    animation:\n",
              "      spin 1s steps(1) infinite;\n",
              "  }\n",
              "\n",
              "  @keyframes spin {\n",
              "    0% {\n",
              "      border-color: transparent;\n",
              "      border-bottom-color: var(--fill-color);\n",
              "      border-left-color: var(--fill-color);\n",
              "    }\n",
              "    20% {\n",
              "      border-color: transparent;\n",
              "      border-left-color: var(--fill-color);\n",
              "      border-top-color: var(--fill-color);\n",
              "    }\n",
              "    30% {\n",
              "      border-color: transparent;\n",
              "      border-left-color: var(--fill-color);\n",
              "      border-top-color: var(--fill-color);\n",
              "      border-right-color: var(--fill-color);\n",
              "    }\n",
              "    40% {\n",
              "      border-color: transparent;\n",
              "      border-right-color: var(--fill-color);\n",
              "      border-top-color: var(--fill-color);\n",
              "    }\n",
              "    60% {\n",
              "      border-color: transparent;\n",
              "      border-right-color: var(--fill-color);\n",
              "    }\n",
              "    80% {\n",
              "      border-color: transparent;\n",
              "      border-right-color: var(--fill-color);\n",
              "      border-bottom-color: var(--fill-color);\n",
              "    }\n",
              "    90% {\n",
              "      border-color: transparent;\n",
              "      border-bottom-color: var(--fill-color);\n",
              "    }\n",
              "  }\n",
              "</style>\n",
              "\n",
              "  <script>\n",
              "    async function quickchart(key) {\n",
              "      const quickchartButtonEl =\n",
              "        document.querySelector('#' + key + ' button');\n",
              "      quickchartButtonEl.disabled = true;  // To prevent multiple clicks.\n",
              "      quickchartButtonEl.classList.add('colab-df-spinner');\n",
              "      try {\n",
              "        const charts = await google.colab.kernel.invokeFunction(\n",
              "            'suggestCharts', [key], {});\n",
              "      } catch (error) {\n",
              "        console.error('Error during call to suggestCharts:', error);\n",
              "      }\n",
              "      quickchartButtonEl.classList.remove('colab-df-spinner');\n",
              "      quickchartButtonEl.classList.add('colab-df-quickchart-complete');\n",
              "    }\n",
              "    (() => {\n",
              "      let quickchartButtonEl =\n",
              "        document.querySelector('#df-cdd07bea-acc0-4f71-b6b0-480ddc7e2087 button');\n",
              "      quickchartButtonEl.style.display =\n",
              "        google.colab.kernel.accessAllowed ? 'block' : 'none';\n",
              "    })();\n",
              "  </script>\n",
              "</div>\n",
              "\n",
              "    </div>\n",
              "  </div>\n"
            ],
            "application/vnd.google.colaboratory.intrinsic+json": {
              "type": "dataframe",
              "variable_name": "merged_data"
            }
          },
          "metadata": {},
          "execution_count": 51
        }
      ]
    },
    {
      "cell_type": "code",
      "source": [
        "merged_data.info()"
      ],
      "metadata": {
        "colab": {
          "base_uri": "https://localhost:8080/"
        },
        "id": "Xdd8UlZoV3sR",
        "outputId": "74413de0-c041-43fe-dc66-96dccbe57bac"
      },
      "execution_count": 52,
      "outputs": [
        {
          "output_type": "stream",
          "name": "stdout",
          "text": [
            "<class 'pandas.core.frame.DataFrame'>\n",
            "RangeIndex: 16 entries, 0 to 15\n",
            "Data columns (total 24 columns):\n",
            " #   Column             Non-Null Count  Dtype         \n",
            "---  ------             --------------  -----         \n",
            " 0   Session ID         16 non-null     object        \n",
            " 1   User ID            16 non-null     object        \n",
            " 2   Dish Name_x        16 non-null     object        \n",
            " 3   Meal Type_x        16 non-null     object        \n",
            " 4   Session Start      16 non-null     datetime64[ns]\n",
            " 5   Session End        16 non-null     datetime64[ns]\n",
            " 6   Duration (mins)    16 non-null     int64         \n",
            " 7   Session Rating     16 non-null     float64       \n",
            " 8   User Name          16 non-null     object        \n",
            " 9   Age                16 non-null     int64         \n",
            " 10  Location           16 non-null     object        \n",
            " 11  Registration Date  16 non-null     datetime64[ns]\n",
            " 12  Phone              16 non-null     object        \n",
            " 13  Email              16 non-null     object        \n",
            " 14  Favorite Meal      16 non-null     object        \n",
            " 15  Total Orders       16 non-null     int64         \n",
            " 16  Order ID           16 non-null     int64         \n",
            " 17  Order Date         16 non-null     datetime64[ns]\n",
            " 18  Meal Type_y        16 non-null     object        \n",
            " 19  Dish Name_y        16 non-null     object        \n",
            " 20  Order Status       16 non-null     object        \n",
            " 21  Amount             16 non-null     float64       \n",
            " 22  Time of Day        16 non-null     object        \n",
            " 23  Rating             16 non-null     float64       \n",
            "dtypes: datetime64[ns](4), float64(3), int64(4), object(13)\n",
            "memory usage: 3.1+ KB\n"
          ]
        }
      ]
    },
    {
      "cell_type": "markdown",
      "source": [
        "#5. DATA ANALYSIS"
      ],
      "metadata": {
        "id": "DJ7-YWSdZVcf"
      }
    },
    {
      "cell_type": "code",
      "source": [
        "import seaborn as sns\n",
        "import matplotlib.pyplot as plt"
      ],
      "metadata": {
        "id": "NEeEU357Zeml"
      },
      "execution_count": 16,
      "outputs": []
    },
    {
      "cell_type": "markdown",
      "source": [
        "5.1. Demographic Insights"
      ],
      "metadata": {
        "id": "Pz8WRZp4ZZ6L"
      }
    },
    {
      "cell_type": "code",
      "source": [
        "# Age Distribution\n",
        "sns.histplot(merged_data['Age'], kde=True)\n",
        "plt.title('Age Distribution of Users')\n",
        "plt.xlabel('Age')\n",
        "plt.ylabel('Frequency')\n",
        "plt.show()"
      ],
      "metadata": {
        "colab": {
          "base_uri": "https://localhost:8080/",
          "height": 472
        },
        "id": "6o4QR2fZY2JW",
        "outputId": "0d2c89d2-419c-4cd3-ac55-ad27b2ab9bd7"
      },
      "execution_count": 17,
      "outputs": [
        {
          "output_type": "display_data",
          "data": {
            "text/plain": [
              "<Figure size 640x480 with 1 Axes>"
            ],
            "image/png": "[encoded data removed]"
          },
          "metadata": {}
        }
      ]
    },
    {
      "cell_type": "code",
      "source": [
        "#Representing favorite meals\n",
        "meal_counts = merged_data['Favorite Meal'].value_counts().head(10)\n",
        "sns.barplot(x=meal_counts.index, y=meal_counts.values)\n",
        "plt.title('Top Favorite Meals')\n",
        "plt.xlabel('Meal')\n",
        "plt.ylabel('Frequency')\n",
        "plt.xticks(rotation=45)\n",
        "plt.show()"
      ],
      "metadata": {
        "colab": {
          "base_uri": "https://localhost:8080/",
          "height": 515
        },
        "id": "Q-2v5X36Y2Gy",
        "outputId": "57fa0041-bde3-4a09-d594-46d0eea1a2db"
      },
      "execution_count": 18,
      "outputs": [
        {
          "output_type": "display_data",
          "data": {
            "text/plain": [
              "<Figure size 640x480 with 1 Axes>"
            ],
            "image/png": "[encoded data removed]"
          },
          "metadata": {}
        }
      ]
    },
    {
      "cell_type": "code",
      "source": [
        "# Segmenting users by age\n",
        "age_groups = pd.cut(merged_data['Age'], bins=[18, 24, 30, 35, 40, 100], labels=['18-24', '25-30', '31-35', '36-40', '40+'])\n",
        "print(age_groups.value_counts())\n",
        "age_group_orders = merged_data.groupby(age_groups)['Total Orders'].sum()"
      ],
      "metadata": {
        "colab": {
          "base_uri": "https://localhost:8080/"
        },
        "id": "i9Dv4hlFY2E2",
        "outputId": "52700c0d-2b87-48cf-fa0d-4edbc18d9c71"
      },
      "execution_count": 19,
      "outputs": [
        {
          "output_type": "stream",
          "name": "stdout",
          "text": [
            "Age\n",
            "25-30    8\n",
            "31-35    4\n",
            "40+      3\n",
            "36-40    1\n",
            "18-24    0\n",
            "Name: count, dtype: int64\n"
          ]
        },
        {
          "output_type": "stream",
          "name": "stderr",
          "text": [
            "<ipython-input-19-02927087efee>:4: FutureWarning: The default of observed=False is deprecated and will be changed to True in a future version of pandas. Pass observed=False to retain current behavior or observed=True to adopt the future default and silence this warning.\n",
            "  age_group_orders = merged_data.groupby(age_groups)['Total Orders'].sum()\n"
          ]
        }
      ]
    },
    {
      "cell_type": "code",
      "source": [
        "# Visualizing the order frequency by age group\n",
        "sns.barplot(x=age_group_orders.index, y=age_group_orders.values)\n",
        "plt.title('Total Orders by Age Group')\n",
        "plt.xlabel('Age Group')\n",
        "plt.ylabel('Total Orders')\n",
        "plt.show()"
      ],
      "metadata": {
        "colab": {
          "base_uri": "https://localhost:8080/",
          "height": 472
        },
        "id": "SxPc0ERtY2Cq",
        "outputId": "bce0e8af-1dc7-49b3-d9ad-1598864b8516"
      },
      "execution_count": 20,
      "outputs": [
        {
          "output_type": "display_data",
          "data": {
            "text/plain": [
              "<Figure size 640x480 with 1 Axes>"
            ],
            "image/png": "[encoded data removed]"
          },
          "metadata": {}
        }
      ]
    },
    {
      "cell_type": "code",
      "source": [
        "# Identifying the most active age group\n",
        "most_active_age_group = age_group_orders.idxmax()\n",
        "print(f\"The most active age group is: {most_active_age_group}\")"
      ],
      "metadata": {
        "colab": {
          "base_uri": "https://localhost:8080/"
        },
        "id": "OuYPKH3eY2AU",
        "outputId": "47af5dbd-66d5-4738-f23a-48e30744b13e"
      },
      "execution_count": 21,
      "outputs": [
        {
          "output_type": "stream",
          "name": "stdout",
          "text": [
            "The most active age group is: 25-30\n"
          ]
        }
      ]
    },
    {
      "cell_type": "markdown",
      "source": [
        "5.2 Cooking and Ordering Behavior"
      ],
      "metadata": {
        "id": "VaEBX0Bha4oq"
      }
    },
    {
      "cell_type": "code",
      "source": [
        "#Order Status indicates that the order was completed or canceled here (1 for completed, 0 for canceled)\n",
        "merged_data['Order Completed'] = merged_data['Order Status'].apply(lambda x: 1 if x == 'Completed' else 0)\n"
      ],
      "metadata": {
        "id": "xc7-3wtpY19_"
      },
      "execution_count": 22,
      "outputs": []
    },
    {
      "cell_type": "code",
      "source": [
        "# Correlation between Session Rating and Order Completion\n",
        "sns.scatterplot(data=merged_data, x='Session Rating', y='Order Completed')\n",
        "plt.title('Session Rating vs Order Completion')\n",
        "plt.xlabel('Session Rating')\n",
        "plt.ylabel('Order Completion')\n",
        "plt.show()"
      ],
      "metadata": {
        "colab": {
          "base_uri": "https://localhost:8080/",
          "height": 472
        },
        "id": "Golht0B9Y17f",
        "outputId": "48c6cb70-2737-49bd-e46f-8e005dbdf5d5"
      },
      "execution_count": 23,
      "outputs": [
        {
          "output_type": "display_data",
          "data": {
            "text/plain": [
              "<Figure size 640x480 with 1 Axes>"
            ],
            "image/png": "[encoded data removed]"
          },
          "metadata": {}
        }
      ]
    },
    {
      "cell_type": "code",
      "source": [
        "# Calculate correlation coefficient\n",
        "correlation = merged_data['Session Rating'].corr(merged_data['Order Completed'])\n",
        "print(f\"Correlation coefficient is : {correlation}\")"
      ],
      "metadata": {
        "colab": {
          "base_uri": "https://localhost:8080/"
        },
        "id": "61fbi33DY146",
        "outputId": "971d9c96-af3f-4e2f-88ea-fd3cc5058b58"
      },
      "execution_count": 24,
      "outputs": [
        {
          "output_type": "stream",
          "name": "stdout",
          "text": [
            "Correlation coefficient is : -0.10838980106369038\n"
          ]
        }
      ]
    },
    {
      "cell_type": "markdown",
      "source": [
        "5.3.  Popular Dishes:\n"
      ],
      "metadata": {
        "id": "3WItfplRbHa7"
      }
    },
    {
      "cell_type": "code",
      "source": [
        "#Most Ordered Dishes\n",
        "top_ordered_dishes = merged_data['Dish Name_y'].value_counts().head(10)\n",
        "sns.barplot(x=top_ordered_dishes.index, y=top_ordered_dishes.values)\n",
        "plt.title('Most Ordered Dishes')\n",
        "plt.xlabel('Dish')\n",
        "plt.ylabel('Order Frequency')\n",
        "plt.xticks(rotation=45)\n",
        "plt.show()"
      ],
      "metadata": {
        "colab": {
          "base_uri": "https://localhost:8080/",
          "height": 542
        },
        "id": "f4F8DHoBbGVR",
        "outputId": "93d3deea-99f0-46cd-da8a-40bb3e5617ad"
      },
      "execution_count": 25,
      "outputs": [
        {
          "output_type": "display_data",
          "data": {
            "text/plain": [
              "<Figure size 640x480 with 1 Axes>"
            ],
            "image/png": "[encoded data removed]"
          },
          "metadata": {}
        }
      ]
    },
    {
      "cell_type": "markdown",
      "source": [
        "5.4. Time-Based Trends"
      ],
      "metadata": {
        "id": "tjNxL_mlbWGo"
      }
    },
    {
      "cell_type": "markdown",
      "source": [
        "5.4.1.Weekday vs. Weekend Order Patterns:"
      ],
      "metadata": {
        "id": "zO3oSedVbYK6"
      }
    },
    {
      "cell_type": "code",
      "source": [
        "# Convert 'Order Date' to datetime\n",
        "merged_data['Order Date'] = pd.to_datetime(merged_data['Order Date'])"
      ],
      "metadata": {
        "id": "C78I3RRKbGP3"
      },
      "execution_count": 26,
      "outputs": []
    },
    {
      "cell_type": "code",
      "source": [
        "# Extracting the day of the week (0 = Monday, 6 = Sunday)\n",
        "merged_data['Day of Week'] = merged_data['Order Date'].dt.dayofweek"
      ],
      "metadata": {
        "id": "gxWccJslbGNg"
      },
      "execution_count": 27,
      "outputs": []
    },
    {
      "cell_type": "code",
      "source": [
        "# Weekday vs Weekend\n",
        "merged_data['Weekday/Weekend'] = merged_data['Day of Week'].apply(lambda x: 'Weekday' if x < 5 else 'Weekend')\n"
      ],
      "metadata": {
        "id": "f5IrhebebGLZ"
      },
      "execution_count": 28,
      "outputs": []
    },
    {
      "cell_type": "code",
      "source": [
        "# Count orders for Weekday/Weekend\n",
        "weekday_orders = merged_data['Weekday/Weekend'].value_counts()\n",
        "sns.barplot(x=weekday_orders.index, y=weekday_orders.values)\n",
        "plt.title('Order Frequency by Weekday vs Weekend')\n",
        "plt.xlabel('Day Type')\n",
        "plt.ylabel('Order Frequency')\n",
        "plt.show()"
      ],
      "metadata": {
        "colab": {
          "base_uri": "https://localhost:8080/",
          "height": 472
        },
        "id": "xYgRSz5QbGJH",
        "outputId": "3993e9ba-9f51-4bdc-b885-19250bc60148"
      },
      "execution_count": 29,
      "outputs": [
        {
          "output_type": "display_data",
          "data": {
            "text/plain": [
              "<Figure size 640x480 with 1 Axes>"
            ],
            "image/png": "[encoded data removed]"
          },
          "metadata": {}
        }
      ]
    },
    {
      "cell_type": "markdown",
      "source": [
        "5.5. Seasonal Variations in Dish Popularity:"
      ],
      "metadata": {
        "id": "t4L9sioYbjNg"
      }
    },
    {
      "cell_type": "code",
      "source": [
        "# Extract month from 'Order Date'\n",
        "merged_data['Month'] = merged_data['Order Date'].dt.month"
      ],
      "metadata": {
        "id": "9RXr6ymjbGG8"
      },
      "execution_count": 30,
      "outputs": []
    },
    {
      "cell_type": "code",
      "source": [
        "# Popular dishes by month\n",
        "month_dish_orders = merged_data.groupby('Month')['Dish Name_y'].value_counts().unstack().fillna(0)\n"
      ],
      "metadata": {
        "id": "HGePeyrPbGEa"
      },
      "execution_count": 31,
      "outputs": []
    },
    {
      "cell_type": "code",
      "source": [
        "# Plot to show popularity of dishes across different months\n",
        "import seaborn as sns\n",
        "plt.figure(figsize=(12, 6))\n",
        "sns.heatmap(month_dish_orders, cmap='Blues', annot=True, fmt='g', cbar=False)\n",
        "plt.title('Dish Popularity by Month')\n",
        "plt.xlabel('Dish')\n",
        "plt.ylabel('Month')\n",
        "plt.show()"
      ],
      "metadata": {
        "colab": {
          "base_uri": "https://localhost:8080/",
          "height": 564
        },
        "id": "dc9JN9MpbGCN",
        "outputId": "1bb0aeac-536a-4f4c-f801-94b3db4ad2dd"
      },
      "execution_count": 32,
      "outputs": [
        {
          "output_type": "display_data",
          "data": {
            "text/plain": [
              "<Figure size 1200x600 with 1 Axes>"
            ],
            "image/png": "[encoded data removed]"
          },
          "metadata": {}
        }
      ]
    },
    {
      "cell_type": "markdown",
      "source": [
        "5.6. Order Cancellations"
      ],
      "metadata": {
        "id": "Sti0bNNlbviK"
      }
    },
    {
      "cell_type": "code",
      "source": [
        "# Calculate cancellation rate\n",
        "cancellation_rate = merged_data['Order Completed'].mean()\n",
        "print(f\"Cancellation Rate: {cancellation_rate * 100:.2f}%\")"
      ],
      "metadata": {
        "colab": {
          "base_uri": "https://localhost:8080/"
        },
        "id": "VNyDeLLQb0Tq",
        "outputId": "72e96eeb-6157-459c-bdcb-c8e3de1a458b"
      },
      "execution_count": 33,
      "outputs": [
        {
          "output_type": "stream",
          "name": "stdout",
          "text": [
            "Cancellation Rate: 87.50%\n"
          ]
        }
      ]
    },
    {
      "cell_type": "code",
      "source": [
        "# Cancellation rate by session rating\n",
        "cancellation_by_session_rating = merged_data.groupby('Session Rating')['Order Completed'].mean()\n",
        "sns.barplot(x=cancellation_by_session_rating.index, y=cancellation_by_session_rating.values)\n",
        "plt.title('Cancellation Rate by Session Rating')\n",
        "plt.xlabel('Session Rating')\n",
        "plt.ylabel('Cancellation Rate')\n",
        "plt.show()"
      ],
      "metadata": {
        "colab": {
          "base_uri": "https://localhost:8080/",
          "height": 472
        },
        "id": "x1eW_jh9b06a",
        "outputId": "d997726b-3167-419d-ba5c-c66a075e20dc"
      },
      "execution_count": 34,
      "outputs": [
        {
          "output_type": "display_data",
          "data": {
            "text/plain": [
              "<Figure size 640x480 with 1 Axes>"
            ],
            "image/png": "[encoded data removed]"
          },
          "metadata": {}
        }
      ]
    },
    {
      "cell_type": "code",
      "source": [
        "# Cancellation rate by time of day\n",
        "cancellation_by_time_of_day = merged_data.groupby('Time of Day')['Order Completed'].mean()\n",
        "sns.barplot(x=cancellation_by_time_of_day.index, y=cancellation_by_time_of_day.values)\n",
        "plt.title('Cancellation Rate by Time of Day')\n",
        "plt.xlabel('Time of Day')\n",
        "plt.ylabel('Cancellation Rate')\n",
        "plt.show()"
      ],
      "metadata": {
        "colab": {
          "base_uri": "https://localhost:8080/",
          "height": 472
        },
        "id": "SGPPPxBZb04M",
        "outputId": "0b50874c-5a6b-4597-fb6f-e7b1747dea40"
      },
      "execution_count": 35,
      "outputs": [
        {
          "output_type": "display_data",
          "data": {
            "text/plain": [
              "<Figure size 640x480 with 1 Axes>"
            ],
            "image/png": "[encoded data removed]"
          },
          "metadata": {}
        }
      ]
    },
    {
      "cell_type": "markdown",
      "source": [
        "#6. Some more Visualisations"
      ],
      "metadata": {
        "id": "_lj61YVHJiOF"
      }
    },
    {
      "cell_type": "markdown",
      "source": [
        "6.1. Heatmap to show the Correlation Between Session and Order Ratings"
      ],
      "metadata": {
        "id": "UW8lAXw1eDCi"
      }
    },
    {
      "cell_type": "code",
      "source": [
        "# Calculate correlation between Session Rating and Order Rating\n",
        "correlation_data = merged_data[['Session Rating', 'Rating']].corr()\n"
      ],
      "metadata": {
        "id": "Ad2GVMawb0vx"
      },
      "execution_count": 38,
      "outputs": []
    },
    {
      "cell_type": "code",
      "source": [
        "\n",
        "plt.figure(figsize=(6, 4))\n",
        "sns.heatmap(correlation_data, annot=True, cmap='coolwarm', fmt='.2f', cbar=True, annot_kws={\"size\": 12})\n",
        "plt.title('Correlation Between Session Rating and Order Rating', fontsize=14, fontweight='bold')\n",
        "plt.show()"
      ],
      "metadata": {
        "colab": {
          "base_uri": "https://localhost:8080/",
          "height": 392
        },
        "id": "6QaXh4VGb0tp",
        "outputId": "67a6d282-9158-4b16-fb9a-0fa35d1c139f"
      },
      "execution_count": 39,
      "outputs": [
        {
          "output_type": "display_data",
          "data": {
            "text/plain": [
              "<Figure size 600x400 with 2 Axes>"
            ],
            "image/png": "[encoded data removed]"
          },
          "metadata": {}
        }
      ]
    },
    {
      "cell_type": "markdown",
      "source": [
        "6.2.  Scatter Plots to show the  Relationship Between Session Duration and Order Amount"
      ],
      "metadata": {
        "id": "HWqTjXQoeNqY"
      }
    },
    {
      "cell_type": "code",
      "source": [
        "\n",
        "plt.figure(figsize=(8, 6))\n",
        "sns.scatterplot(data=merged_data, x='Duration (mins)', y='Amount', hue='Dish Name_y', palette='Set2', alpha=0.8)\n",
        "plt.title('Relationship Between Session Duration and Order Amount', fontsize=16, fontweight='bold')\n",
        "plt.xlabel('Session Duration (mins)', fontsize=12)\n",
        "plt.ylabel('Order Amount', fontsize=12)\n",
        "plt.legend(title='Dish Name', bbox_to_anchor=(1.05, 1), loc='upper left', fontsize=10)  # Adjust legend outside the plot\n",
        "plt.show()"
      ],
      "metadata": {
        "colab": {
          "base_uri": "https://localhost:8080/",
          "height": 570
        },
        "id": "r4sVJbHSb0rQ",
        "outputId": "a0e598c0-21eb-4fa2-950a-60e7ea624fb2"
      },
      "execution_count": 40,
      "outputs": [
        {
          "output_type": "display_data",
          "data": {
            "text/plain": [
              "<Figure size 800x600 with 1 Axes>"
            ],
            "image/png": "[encoded data removed]"
          },
          "metadata": {}
        }
      ]
    },
    {
      "cell_type": "markdown",
      "source": [
        "6.3. Demographic Trends and Dish Analysis"
      ],
      "metadata": {
        "id": "cOTcJdYDeUVE"
      }
    },
    {
      "cell_type": "code",
      "source": [
        "import plotly.express as px"
      ],
      "metadata": {
        "id": "V-wjpOMdb0pE"
      },
      "execution_count": 45,
      "outputs": []
    },
    {
      "cell_type": "code",
      "source": [
        "# Create age group distribution\n",
        "age_groups = pd.cut(merged_data['Age'], bins=[18, 24, 30, 35, 40, 100], labels=['18-24', '25-30', '31-35', '36-40', '40+'])\n",
        "age_group_counts = age_groups.value_counts().reset_index()\n",
        "age_group_counts.columns = ['Age Group', 'Count']"
      ],
      "metadata": {
        "id": "GiU_gzTSb0ml"
      },
      "execution_count": 41,
      "outputs": []
    },
    {
      "cell_type": "code",
      "source": [
        "\n",
        "fig = px.bar(age_group_counts, x='Age Group', y='Count', title='User Distribution by Age Group',\n",
        "             labels={'Age Group': 'Age Group', 'Count': 'Number of Users'}, color='Age Group', color_continuous_scale='Plasma')\n",
        "fig.update_layout(xaxis_title='Age Group', yaxis_title='Number of Users', title_font=dict(size=18, family='Verdana'))\n",
        "fig.show()"
      ],
      "metadata": {
        "colab": {
          "base_uri": "https://localhost:8080/",
          "height": 542
        },
        "id": "J3undZ1yb0jt",
        "outputId": "4a62ca42-adfd-4a38-edb9-fbd61505fbc2"
      },
      "execution_count": 43,
      "outputs": [
        {
          "output_type": "display_data",
          "data": {
            "text/html": [
              "<html>\n",
              "<head><meta charset=\"utf-8\" /></head>\n",
              "<body>\n",
              "    <div>            <script src=\"https://cdnjs.cloudflare.com/ajax/libs/mathjax/2.7.5/MathJax.js?config=TeX-AMS-MML_SVG\"></script><script type=\"text/javascript\">if (window.MathJax && window.MathJax.Hub && window.MathJax.Hub.Config) {window.MathJax.Hub.Config({SVG: {font: \"STIX-Web\"}});}</script>                <script type=\"text/javascript\">window.PlotlyConfig = {MathJaxConfig: 'local'};</script>\n",
              "        <script charset=\"utf-8\" src=\"https://cdn.plot.ly/plotly-2.35.2.min.js\"></script>                <div id=\"e67a8165-f1e9-44df-b5dd-f4ca40e98c14\" class=\"plotly-graph-div\" style=\"height:525px; width:100%;\"></div>            <script type=\"text/javascript\">                                    window.PLOTLYENV=window.PLOTLYENV || {};                                    if (document.getElementById(\"e67a8165-f1e9-44df-b5dd-f4ca40e98c14\")) {                    Plotly.newPlot(                        \"e67a8165-f1e9-44df-b5dd-f4ca40e98c14\",                        [{\"alignmentgroup\":\"True\",\"hovertemplate\":\"Age Group=%{x}\\u003cbr\\u003eNumber of Users=%{y}\\u003cextra\\u003e\\u003c\\u002fextra\\u003e\",\"legendgroup\":\"25-30\",\"marker\":{\"color\":\"#636efa\",\"pattern\":{\"shape\":\"\"}},\"name\":\"25-30\",\"offsetgroup\":\"25-30\",\"orientation\":\"v\",\"showlegend\":true,\"textposition\":\"auto\",\"x\":[\"25-30\"],\"xaxis\":\"x\",\"y\":[8],\"yaxis\":\"y\",\"type\":\"bar\"},{\"alignmentgroup\":\"True\",\"hovertemplate\":\"Age Group=%{x}\\u003cbr\\u003eNumber of Users=%{y}\\u003cextra\\u003e\\u003c\\u002fextra\\u003e\",\"legendgroup\":\"31-35\",\"marker\":{\"color\":\"#EF553B\",\"pattern\":{\"shape\":\"\"}},\"name\":\"31-35\",\"offsetgroup\":\"31-35\",\"orientation\":\"v\",\"showlegend\":true,\"textposition\":\"auto\",\"x\":[\"31-35\"],\"xaxis\":\"x\",\"y\":[4],\"yaxis\":\"y\",\"type\":\"bar\"},{\"alignmentgroup\":\"True\",\"hovertemplate\":\"Age Group=%{x}\\u003cbr\\u003eNumber of Users=%{y}\\u003cextra\\u003e\\u003c\\u002fextra\\u003e\",\"legendgroup\":\"40+\",\"marker\":{\"color\":\"#00cc96\",\"pattern\":{\"shape\":\"\"}},\"name\":\"40+\",\"offsetgroup\":\"40+\",\"orientation\":\"v\",\"showlegend\":true,\"textposition\":\"auto\",\"x\":[\"40+\"],\"xaxis\":\"x\",\"y\":[3],\"yaxis\":\"y\",\"type\":\"bar\"},{\"alignmentgroup\":\"True\",\"hovertemplate\":\"Age Group=%{x}\\u003cbr\\u003eNumber of Users=%{y}\\u003cextra\\u003e\\u003c\\u002fextra\\u003e\",\"legendgroup\":\"36-40\",\"marker\":{\"color\":\"#ab63fa\",\"pattern\":{\"shape\":\"\"}},\"name\":\"36-40\",\"offsetgroup\":\"36-40\",\"orientation\":\"v\",\"showlegend\":true,\"textposition\":\"auto\",\"x\":[\"36-40\"],\"xaxis\":\"x\",\"y\":[1],\"yaxis\":\"y\",\"type\":\"bar\"},{\"alignmentgroup\":\"True\",\"hovertemplate\":\"Age Group=%{x}\\u003cbr\\u003eNumber of Users=%{y}\\u003cextra\\u003e\\u003c\\u002fextra\\u003e\",\"legendgroup\":\"18-24\",\"marker\":{\"color\":\"#FFA15A\",\"pattern\":{\"shape\":\"\"}},\"name\":\"18-24\",\"offsetgroup\":\"18-24\",\"orientation\":\"v\",\"showlegend\":true,\"textposition\":\"auto\",\"x\":[\"18-24\"],\"xaxis\":\"x\",\"y\":[0],\"yaxis\":\"y\",\"type\":\"bar\"}],                        {\"template\":{\"data\":{\"histogram2dcontour\":[{\"type\":\"histogram2dcontour\",\"colorbar\":{\"outlinewidth\":0,\"ticks\":\"\"},\"colorscale\":[[0.0,\"#0d0887\"],[0.1111111111111111,\"#46039f\"],[0.2222222222222222,\"#7201a8\"],[0.3333333333333333,\"#9c179e\"],[0.4444444444444444,\"#bd3786\"],[0.5555555555555556,\"#d8576b\"],[0.6666666666666666,\"#ed7953\"],[0.7777777777777778,\"#fb9f3a\"],[0.8888888888888888,\"#fdca26\"],[1.0,\"#f0f921\"]]}],\"choropleth\":[{\"type\":\"choropleth\",\"colorbar\":{\"outlinewidth\":0,\"ticks\":\"\"}}],\"histogram2d\":[{\"type\":\"histogram2d\",\"colorbar\":{\"outlinewidth\":0,\"ticks\":\"\"},\"colorscale\":[[0.0,\"#0d0887\"],[0.1111111111111111,\"#46039f\"],[0.2222222222222222,\"#7201a8\"],[0.3333333333333333,\"#9c179e\"],[0.4444444444444444,\"#bd3786\"],[0.5555555555555556,\"#d8576b\"],[0.6666666666666666,\"#ed7953\"],[0.7777777777777778,\"#fb9f3a\"],[0.8888888888888888,\"#fdca26\"],[1.0,\"#f0f921\"]]}],\"heatmap\":[{\"type\":\"heatmap\",\"colorbar\":{\"outlinewidth\":0,\"ticks\":\"\"},\"colorscale\":[[0.0,\"#0d0887\"],[0.1111111111111111,\"#46039f\"],[0.2222222222222222,\"#7201a8\"],[0.3333333333333333,\"#9c179e\"],[0.4444444444444444,\"#bd3786\"],[0.5555555555555556,\"#d8576b\"],[0.6666666666666666,\"#ed7953\"],[0.7777777777777778,\"#fb9f3a\"],[0.8888888888888888,\"#fdca26\"],[1.0,\"#f0f921\"]]}],\"heatmapgl\":[{\"type\":\"heatmapgl\",\"colorbar\":{\"outlinewidth\":0,\"ticks\":\"\"},\"colorscale\":[[0.0,\"#0d0887\"],[0.1111111111111111,\"#46039f\"],[0.2222222222222222,\"#7201a8\"],[0.3333333333333333,\"#9c179e\"],[0.4444444444444444,\"#bd3786\"],[0.5555555555555556,\"#d8576b\"],[0.6666666666666666,\"#ed7953\"],[0.7777777777777778,\"#fb9f3a\"],[0.8888888888888888,\"#fdca26\"],[1.0,\"#f0f921\"]]}],\"contourcarpet\":[{\"type\":\"contourcarpet\",\"colorbar\":{\"outlinewidth\":0,\"ticks\":\"\"}}],\"contour\":[{\"type\":\"contour\",\"colorbar\":{\"outlinewidth\":0,\"ticks\":\"\"},\"colorscale\":[[0.0,\"#0d0887\"],[0.1111111111111111,\"#46039f\"],[0.2222222222222222,\"#7201a8\"],[0.3333333333333333,\"#9c179e\"],[0.4444444444444444,\"#bd3786\"],[0.5555555555555556,\"#d8576b\"],[0.6666666666666666,\"#ed7953\"],[0.7777777777777778,\"#fb9f3a\"],[0.8888888888888888,\"#fdca26\"],[1.0,\"#f0f921\"]]}],\"surface\":[{\"type\":\"surface\",\"colorbar\":{\"outlinewidth\":0,\"ticks\":\"\"},\"colorscale\":[[0.0,\"#0d0887\"],[0.1111111111111111,\"#46039f\"],[0.2222222222222222,\"#7201a8\"],[0.3333333333333333,\"#9c179e\"],[0.4444444444444444,\"#bd3786\"],[0.5555555555555556,\"#d8576b\"],[0.6666666666666666,\"#ed7953\"],[0.7777777777777778,\"#fb9f3a\"],[0.8888888888888888,\"#fdca26\"],[1.0,\"#f0f921\"]]}],\"mesh3d\":[{\"type\":\"mesh3d\",\"colorbar\":{\"outlinewidth\":0,\"ticks\":\"\"}}],\"scatter\":[{\"fillpattern\":{\"fillmode\":\"overlay\",\"size\":10,\"solidity\":0.2},\"type\":\"scatter\"}],\"parcoords\":[{\"type\":\"parcoords\",\"line\":{\"colorbar\":{\"outlinewidth\":0,\"ticks\":\"\"}}}],\"scatterpolargl\":[{\"type\":\"scatterpolargl\",\"marker\":{\"colorbar\":{\"outlinewidth\":0,\"ticks\":\"\"}}}],\"bar\":[{\"error_x\":{\"color\":\"#2a3f5f\"},\"error_y\":{\"color\":\"#2a3f5f\"},\"marker\":{\"line\":{\"color\":\"#E5ECF6\",\"width\":0.5},\"pattern\":{\"fillmode\":\"overlay\",\"size\":10,\"solidity\":0.2}},\"type\":\"bar\"}],\"scattergeo\":[{\"type\":\"scattergeo\",\"marker\":{\"colorbar\":{\"outlinewidth\":0,\"ticks\":\"\"}}}],\"scatterpolar\":[{\"type\":\"scatterpolar\",\"marker\":{\"colorbar\":{\"outlinewidth\":0,\"ticks\":\"\"}}}],\"histogram\":[{\"marker\":{\"pattern\":{\"fillmode\":\"overlay\",\"size\":10,\"solidity\":0.2}},\"type\":\"histogram\"}],\"scattergl\":[{\"type\":\"scattergl\",\"marker\":{\"colorbar\":{\"outlinewidth\":0,\"ticks\":\"\"}}}],\"scatter3d\":[{\"type\":\"scatter3d\",\"line\":{\"colorbar\":{\"outlinewidth\":0,\"ticks\":\"\"}},\"marker\":{\"colorbar\":{\"outlinewidth\":0,\"ticks\":\"\"}}}],\"scattermapbox\":[{\"type\":\"scattermapbox\",\"marker\":{\"colorbar\":{\"outlinewidth\":0,\"ticks\":\"\"}}}],\"scatterternary\":[{\"type\":\"scatterternary\",\"marker\":{\"colorbar\":{\"outlinewidth\":0,\"ticks\":\"\"}}}],\"scattercarpet\":[{\"type\":\"scattercarpet\",\"marker\":{\"colorbar\":{\"outlinewidth\":0,\"ticks\":\"\"}}}],\"carpet\":[{\"aaxis\":{\"endlinecolor\":\"#2a3f5f\",\"gridcolor\":\"white\",\"linecolor\":\"white\",\"minorgridcolor\":\"white\",\"startlinecolor\":\"#2a3f5f\"},\"baxis\":{\"endlinecolor\":\"#2a3f5f\",\"gridcolor\":\"white\",\"linecolor\":\"white\",\"minorgridcolor\":\"white\",\"startlinecolor\":\"#2a3f5f\"},\"type\":\"carpet\"}],\"table\":[{\"cells\":{\"fill\":{\"color\":\"#EBF0F8\"},\"line\":{\"color\":\"white\"}},\"header\":{\"fill\":{\"color\":\"#C8D4E3\"},\"line\":{\"color\":\"white\"}},\"type\":\"table\"}],\"barpolar\":[{\"marker\":{\"line\":{\"color\":\"#E5ECF6\",\"width\":0.5},\"pattern\":{\"fillmode\":\"overlay\",\"size\":10,\"solidity\":0.2}},\"type\":\"barpolar\"}],\"pie\":[{\"automargin\":true,\"type\":\"pie\"}]},\"layout\":{\"autotypenumbers\":\"strict\",\"colorway\":[\"#636efa\",\"#EF553B\",\"#00cc96\",\"#ab63fa\",\"#FFA15A\",\"#19d3f3\",\"#FF6692\",\"#B6E880\",\"#FF97FF\",\"#FECB52\"],\"font\":{\"color\":\"#2a3f5f\"},\"hovermode\":\"closest\",\"hoverlabel\":{\"align\":\"left\"},\"paper_bgcolor\":\"white\",\"plot_bgcolor\":\"#E5ECF6\",\"polar\":{\"bgcolor\":\"#E5ECF6\",\"angularaxis\":{\"gridcolor\":\"white\",\"linecolor\":\"white\",\"ticks\":\"\"},\"radialaxis\":{\"gridcolor\":\"white\",\"linecolor\":\"white\",\"ticks\":\"\"}},\"ternary\":{\"bgcolor\":\"#E5ECF6\",\"aaxis\":{\"gridcolor\":\"white\",\"linecolor\":\"white\",\"ticks\":\"\"},\"baxis\":{\"gridcolor\":\"white\",\"linecolor\":\"white\",\"ticks\":\"\"},\"caxis\":{\"gridcolor\":\"white\",\"linecolor\":\"white\",\"ticks\":\"\"}},\"coloraxis\":{\"colorbar\":{\"outlinewidth\":0,\"ticks\":\"\"}},\"colorscale\":{\"sequential\":[[0.0,\"#0d0887\"],[0.1111111111111111,\"#46039f\"],[0.2222222222222222,\"#7201a8\"],[0.3333333333333333,\"#9c179e\"],[0.4444444444444444,\"#bd3786\"],[0.5555555555555556,\"#d8576b\"],[0.6666666666666666,\"#ed7953\"],[0.7777777777777778,\"#fb9f3a\"],[0.8888888888888888,\"#fdca26\"],[1.0,\"#f0f921\"]],\"sequentialminus\":[[0.0,\"#0d0887\"],[0.1111111111111111,\"#46039f\"],[0.2222222222222222,\"#7201a8\"],[0.3333333333333333,\"#9c179e\"],[0.4444444444444444,\"#bd3786\"],[0.5555555555555556,\"#d8576b\"],[0.6666666666666666,\"#ed7953\"],[0.7777777777777778,\"#fb9f3a\"],[0.8888888888888888,\"#fdca26\"],[1.0,\"#f0f921\"]],\"diverging\":[[0,\"#8e0152\"],[0.1,\"#c51b7d\"],[0.2,\"#de77ae\"],[0.3,\"#f1b6da\"],[0.4,\"#fde0ef\"],[0.5,\"#f7f7f7\"],[0.6,\"#e6f5d0\"],[0.7,\"#b8e186\"],[0.8,\"#7fbc41\"],[0.9,\"#4d9221\"],[1,\"#276419\"]]},\"xaxis\":{\"gridcolor\":\"white\",\"linecolor\":\"white\",\"ticks\":\"\",\"title\":{\"standoff\":15},\"zerolinecolor\":\"white\",\"automargin\":true,\"zerolinewidth\":2},\"yaxis\":{\"gridcolor\":\"white\",\"linecolor\":\"white\",\"ticks\":\"\",\"title\":{\"standoff\":15},\"zerolinecolor\":\"white\",\"automargin\":true,\"zerolinewidth\":2},\"scene\":{\"xaxis\":{\"backgroundcolor\":\"#E5ECF6\",\"gridcolor\":\"white\",\"linecolor\":\"white\",\"showbackground\":true,\"ticks\":\"\",\"zerolinecolor\":\"white\",\"gridwidth\":2},\"yaxis\":{\"backgroundcolor\":\"#E5ECF6\",\"gridcolor\":\"white\",\"linecolor\":\"white\",\"showbackground\":true,\"ticks\":\"\",\"zerolinecolor\":\"white\",\"gridwidth\":2},\"zaxis\":{\"backgroundcolor\":\"#E5ECF6\",\"gridcolor\":\"white\",\"linecolor\":\"white\",\"showbackground\":true,\"ticks\":\"\",\"zerolinecolor\":\"white\",\"gridwidth\":2}},\"shapedefaults\":{\"line\":{\"color\":\"#2a3f5f\"}},\"annotationdefaults\":{\"arrowcolor\":\"#2a3f5f\",\"arrowhead\":0,\"arrowwidth\":1},\"geo\":{\"bgcolor\":\"white\",\"landcolor\":\"#E5ECF6\",\"subunitcolor\":\"white\",\"showland\":true,\"showlakes\":true,\"lakecolor\":\"white\"},\"title\":{\"x\":0.05},\"mapbox\":{\"style\":\"light\"}}},\"xaxis\":{\"anchor\":\"y\",\"domain\":[0.0,1.0],\"title\":{\"text\":\"Age Group\"},\"categoryorder\":\"array\",\"categoryarray\":[\"25-30\",\"31-35\",\"40+\",\"36-40\",\"18-24\"]},\"yaxis\":{\"anchor\":\"x\",\"domain\":[0.0,1.0],\"title\":{\"text\":\"Number of Users\"}},\"legend\":{\"title\":{\"text\":\"Age Group\"},\"tracegroupgap\":0},\"title\":{\"text\":\"User Distribution by Age Group\",\"font\":{\"size\":18,\"family\":\"Verdana\"}},\"barmode\":\"relative\"},                        {\"responsive\": true}                    ).then(function(){\n",
              "                            \n",
              "var gd = document.getElementById('e67a8165-f1e9-44df-b5dd-f4ca40e98c14');\n",
              "var x = new MutationObserver(function (mutations, observer) {{\n",
              "        var display = window.getComputedStyle(gd).display;\n",
              "        if (!display || display === 'none') {{\n",
              "            console.log([gd, 'removed!']);\n",
              "            Plotly.purge(gd);\n",
              "            observer.disconnect();\n",
              "        }}\n",
              "}});\n",
              "\n",
              "// Listen for the removal of the full notebook cells\n",
              "var notebookContainer = gd.closest('#notebook-container');\n",
              "if (notebookContainer) {{\n",
              "    x.observe(notebookContainer, {childList: true});\n",
              "}}\n",
              "\n",
              "// Listen for the clearing of the current output cell\n",
              "var outputEl = gd.closest('.output');\n",
              "if (outputEl) {{\n",
              "    x.observe(outputEl, {childList: true});\n",
              "}}\n",
              "\n",
              "                        })                };                            </script>        </div>\n",
              "</body>\n",
              "</html>"
            ]
          },
          "metadata": {}
        }
      ]
    },
    {
      "cell_type": "markdown",
      "source": [
        "6.4.  Boxplot to show the Distribution of Order Amounts by Dish Type"
      ],
      "metadata": {
        "id": "tWXpifipe2CG"
      }
    },
    {
      "cell_type": "code",
      "source": [
        "\n",
        "plt.figure(figsize=(10, 6))\n",
        "sns.boxplot(data=merged_data, x='Meal Type_y', y='Amount', palette='Set1')\n",
        "plt.title('Distribution of Order Amounts by Meal Type', fontsize=16, fontweight='bold')\n",
        "plt.xlabel('Meal Type', fontsize=12)\n",
        "plt.ylabel('Order Amount', fontsize=12)\n",
        "plt.show()"
      ],
      "metadata": {
        "colab": {
          "base_uri": "https://localhost:8080/",
          "height": 691
        },
        "id": "_8671D64b0a3",
        "outputId": "b34fb953-557b-4570-c61c-ed5664d1e796"
      },
      "execution_count": 46,
      "outputs": [
        {
          "output_type": "stream",
          "name": "stderr",
          "text": [
            "<ipython-input-46-caf40a5fb002>:2: FutureWarning:\n",
            "\n",
            "\n",
            "\n",
            "Passing `palette` without assigning `hue` is deprecated and will be removed in v0.14.0. Assign the `x` variable to `hue` and set `legend=False` for the same effect.\n",
            "\n",
            "\n"
          ]
        },
        {
          "output_type": "display_data",
          "data": {
            "text/plain": [
              "<Figure size 1000x600 with 1 Axes>"
            ],
            "image/png": "[encoded data removed]"
          },
          "metadata": {}
        }
      ]
    },
    {
      "cell_type": "markdown",
      "source": [
        "6.5. Violin Plot to show the  User Rating Distribution by Dish Type"
      ],
      "metadata": {
        "id": "wwjqV-b2e7gl"
      }
    },
    {
      "cell_type": "code",
      "source": [
        "\n",
        "plt.figure(figsize=(10, 6))\n",
        "sns.violinplot(data=merged_data, x='Dish Name_y', y='Rating', palette='Pastel1')\n",
        "plt.title('User Rating Distribution by Dish Type', fontsize=16, fontweight='bold')\n",
        "plt.xlabel('Dish Name', fontsize=12)\n",
        "plt.ylabel('Rating', fontsize=12)\n",
        "plt.xticks(rotation=45, ha='right')\n",
        "plt.show()"
      ],
      "metadata": {
        "colab": {
          "base_uri": "https://localhost:8080/",
          "height": 761
        },
        "id": "wZXSXdpVe5jB",
        "outputId": "7ae1f656-57cf-4db0-940c-ce61f2f5bc6a"
      },
      "execution_count": 48,
      "outputs": [
        {
          "output_type": "stream",
          "name": "stderr",
          "text": [
            "<ipython-input-48-701c73621692>:2: FutureWarning:\n",
            "\n",
            "\n",
            "\n",
            "Passing `palette` without assigning `hue` is deprecated and will be removed in v0.14.0. Assign the `x` variable to `hue` and set `legend=False` for the same effect.\n",
            "\n",
            "\n"
          ]
        },
        {
          "output_type": "display_data",
          "data": {
            "text/plain": [
              "<Figure size 1000x600 with 1 Axes>"
            ],
            "image/png": "[encoded data removed]"
          },
          "metadata": {}
        }
      ]
    },
    {
      "cell_type": "markdown",
      "source": [
        "6.6. Pie Chart to show the Order Status Breakdown"
      ],
      "metadata": {
        "id": "_xwIoKbVfAjd"
      }
    },
    {
      "cell_type": "code",
      "source": [
        "\n",
        "order_status_counts = merged_data['Order Status'].value_counts()\n",
        "\n",
        "plt.figure(figsize=(8, 8))\n",
        "plt.pie(order_status_counts, labels=order_status_counts.index, autopct='%1.1f%%', colors=sns.color_palette('pastel', n_colors=len(order_status_counts)))\n",
        "plt.title('Order Status Breakdown', fontsize=16, fontweight='bold')\n",
        "plt.show()"
      ],
      "metadata": {
        "colab": {
          "base_uri": "https://localhost:8080/",
          "height": 677
        },
        "id": "qOXDJAUZe5g7",
        "outputId": "d99bfdc7-d1bf-49e3-ea76-e51e35ee0c16"
      },
      "execution_count": 49,
      "outputs": [
        {
          "output_type": "display_data",
          "data": {
            "text/plain": [
              "<Figure size 800x800 with 1 Axes>"
            ],
            "image/png": "[encoded data removed]"
          },
          "metadata": {}
        }
      ]
    },
    {
      "cell_type": "markdown",
      "source": [
        " 6.7. Heatmap to show the  User Activity by Time of Day and Day of the Week"
      ],
      "metadata": {
        "id": "ge4C2k4gfGFi"
      }
    },
    {
      "cell_type": "code",
      "source": [
        "# Create a new column for the day of the week\n",
        "merged_data['Day of Week'] = merged_data['Order Date'].dt.day_name()"
      ],
      "metadata": {
        "id": "aWIX2KRpe5ey"
      },
      "execution_count": 50,
      "outputs": []
    },
    {
      "cell_type": "code",
      "source": [
        "# Create a pivot table of the number of orders by day and time of day\n",
        "activity_heatmap = pd.crosstab(merged_data['Day of Week'], merged_data['Time of Day'])\n"
      ],
      "metadata": {
        "id": "2CCKSUgRe5cm"
      },
      "execution_count": 51,
      "outputs": []
    },
    {
      "cell_type": "code",
      "source": [
        "# Plot the heatmap\n",
        "plt.figure(figsize=(10, 6))\n",
        "sns.heatmap(activity_heatmap, annot=True, fmt='d', cmap='YlGnBu', cbar=True)\n",
        "plt.title('User Activity by Time of Day and Day of the Week', fontsize=16, fontweight='bold')\n",
        "plt.xlabel('Time of Day', fontsize=12)\n",
        "plt.ylabel('Day of Week', fontsize=12)\n",
        "plt.show()"
      ],
      "metadata": {
        "colab": {
          "base_uri": "https://localhost:8080/",
          "height": 570
        },
        "id": "g9YN0UWAe5Z6",
        "outputId": "fd2c9548-cd4b-4061-d5a4-fb3144ad7379"
      },
      "execution_count": 52,
      "outputs": [
        {
          "output_type": "display_data",
          "data": {
            "text/plain": [
              "<Figure size 1000x600 with 2 Axes>"
            ],
            "image/png": "[encoded data removed]"
          },
          "metadata": {}
        }
      ]
    },
    {
      "cell_type": "markdown",
      "source": [
        "6.8.Stacked Bar Chart to show the  Meal Types and Dish Popularity"
      ],
      "metadata": {
        "id": "2epMEB67fYaw"
      }
    },
    {
      "cell_type": "code",
      "source": [
        "# Create a pivot table for meal type and dish popularity\n",
        "meal_dish_pivot = pd.crosstab(merged_data['Meal Type_y'], merged_data['Dish Name_y'])\n"
      ],
      "metadata": {
        "id": "JfNkz0a8e5Xx"
      },
      "execution_count": 53,
      "outputs": []
    },
    {
      "cell_type": "code",
      "source": [
        "\n",
        "meal_dish_pivot.plot(kind='bar', stacked=True, figsize=(12, 8), colormap='Paired')\n",
        "plt.title('Meal Types and Dish Popularity', fontsize=16, fontweight='bold')\n",
        "plt.xlabel('Meal Type', fontsize=12)\n",
        "plt.ylabel('Order Frequency', fontsize=12)\n",
        "plt.xticks(rotation=45, ha='right')\n",
        "plt.legend(title='Dish Name', bbox_to_anchor=(1.05, 1), loc='upper left')\n",
        "plt.show()"
      ],
      "metadata": {
        "colab": {
          "base_uri": "https://localhost:8080/",
          "height": 767
        },
        "id": "1LJNs8Ufe5VI",
        "outputId": "6c4fdd67-f880-4f45-9398-b4e8d2e6216d"
      },
      "execution_count": 54,
      "outputs": [
        {
          "output_type": "display_data",
          "data": {
            "text/plain": [
              "<Figure size 1200x800 with 1 Axes>"
            ],
            "image/png": "[encoded data removed]"
          },
          "metadata": {}
        }
      ]
    },
    {
      "cell_type": "markdown",
      "source": [
        "6.9. Bubble Chart to show the  Correlation Between Session Duration, Order Amount, and Ratings\n"
      ],
      "metadata": {
        "id": "wp-xmgSqfgpo"
      }
    },
    {
      "cell_type": "code",
      "source": [
        "\n",
        "plt.figure(figsize=(10, 6))\n",
        "sns.scatterplot(data=merged_data, x='Duration (mins)', y='Amount', size='Rating', hue='Meal Type_y', palette='coolwarm', sizes=(20, 200), alpha=0.7)\n",
        "plt.title('Session Duration, Order Amount, and Ratings', fontsize=16, fontweight='bold')\n",
        "plt.xlabel('Session Duration (mins)', fontsize=12)\n",
        "plt.ylabel('Order Amount', fontsize=12)\n",
        "plt.legend(title='Meal Type', bbox_to_anchor=(1.05, 1), loc='upper left')\n",
        "plt.show()"
      ],
      "metadata": {
        "colab": {
          "base_uri": "https://localhost:8080/",
          "height": 570
        },
        "id": "0Xod1eRbe5S2",
        "outputId": "a62488f9-e5d4-411f-e54a-e3549fa1c189"
      },
      "execution_count": 55,
      "outputs": [
        {
          "output_type": "display_data",
          "data": {
            "text/plain": [
              "<Figure size 1000x600 with 1 Axes>"
            ],
            "image/png": "[encoded data removed]"
          },
          "metadata": {}
        }
      ]
    },
    {
      "cell_type": "markdown",
      "source": [
        "# 7. ADVANCED ANALYSIS"
      ],
      "metadata": {
        "id": "DL18AtCOEjwI"
      }
    },
    {
      "cell_type": "markdown",
      "source": [
        "7.1. Predictive Analysis for User Engagement and Order Conversion"
      ],
      "metadata": {
        "id": "mryHE9JZEsL8"
      }
    },
    {
      "cell_type": "code",
      "source": [
        "from sklearn.ensemble import RandomForestClassifier\n",
        "from sklearn.model_selection import train_test_split\n",
        "from sklearn.metrics import classification_report"
      ],
      "metadata": {
        "id": "I1ChWhVtEjAc"
      },
      "execution_count": 56,
      "outputs": []
    },
    {
      "cell_type": "code",
      "source": [
        "# Feature engineering (using session data to predict order placement)\n",
        "merged_data['Order_Completed'] = (merged_data['Order Status'] == 'Completed').astype(int) # Replace df with merged_data"
      ],
      "metadata": {
        "id": "9eEQjTZsEiu7"
      },
      "execution_count": 57,
      "outputs": []
    },
    {
      "cell_type": "code",
      "source": [
        "# Splitting the data\n",
        "X = merged_data[['Age', 'Session Rating', 'Duration (mins)', 'Total Orders']]  # Features\n",
        "y = merged_data['Order_Completed']  # Target variable\n",
        "\n",
        "X_train, X_test, y_train, y_test = train_test_split(X, y, test_size=0.3, random_state=42)\n"
      ],
      "metadata": {
        "id": "lm7WoZ0YE1Hd"
      },
      "execution_count": 58,
      "outputs": []
    },
    {
      "cell_type": "code",
      "source": [
        "# Model: Random Forest\n",
        "model = RandomForestClassifier()\n",
        "model.fit(X_train, y_train)"
      ],
      "metadata": {
        "id": "GFzI1X_GE08l",
        "outputId": "30590cbe-00a4-48ad-fdca-4a3332d32028",
        "colab": {
          "base_uri": "https://localhost:8080/",
          "height": 80
        }
      },
      "execution_count": 59,
      "outputs": [
        {
          "output_type": "execute_result",
          "data": {
            "text/plain": [
              "RandomForestClassifier()"
            ],
            "text/html": [
              "<style>#sk-container-id-1 {\n",
              "  /* Definition of color scheme common for light and dark mode */\n",
              "  --sklearn-color-text: #000;\n",
              "  --sklearn-color-text-muted: #666;\n",
              "  --sklearn-color-line: gray;\n",
              "  /* Definition of color scheme for unfitted estimators */\n",
              "  --sklearn-color-unfitted-level-0: #fff5e6;\n",
              "  --sklearn-color-unfitted-level-1: #f6e4d2;\n",
              "  --sklearn-color-unfitted-level-2: #ffe0b3;\n",
              "  --sklearn-color-unfitted-level-3: chocolate;\n",
              "  /* Definition of color scheme for fitted estimators */\n",
              "  --sklearn-color-fitted-level-0: #f0f8ff;\n",
              "  --sklearn-color-fitted-level-1: #d4ebff;\n",
              "  --sklearn-color-fitted-level-2: #b3dbfd;\n",
              "  --sklearn-color-fitted-level-3: cornflowerblue;\n",
              "\n",
              "  /* Specific color for light theme */\n",
              "  --sklearn-color-text-on-default-background: var(--sg-text-color, var(--theme-code-foreground, var(--jp-content-font-color1, black)));\n",
              "  --sklearn-color-background: var(--sg-background-color, var(--theme-background, var(--jp-layout-color0, white)));\n",
              "  --sklearn-color-border-box: var(--sg-text-color, var(--theme-code-foreground, var(--jp-content-font-color1, black)));\n",
              "  --sklearn-color-icon: #696969;\n",
              "\n",
              "  @media (prefers-color-scheme: dark) {\n",
              "    /* Redefinition of color scheme for dark theme */\n",
              "    --sklearn-color-text-on-default-background: var(--sg-text-color, var(--theme-code-foreground, var(--jp-content-font-color1, white)));\n",
              "    --sklearn-color-background: var(--sg-background-color, var(--theme-background, var(--jp-layout-color0, #111)));\n",
              "    --sklearn-color-border-box: var(--sg-text-color, var(--theme-code-foreground, var(--jp-content-font-color1, white)));\n",
              "    --sklearn-color-icon: #878787;\n",
              "  }\n",
              "}\n",
              "\n",
              "#sk-container-id-1 {\n",
              "  color: var(--sklearn-color-text);\n",
              "}\n",
              "\n",
              "#sk-container-id-1 pre {\n",
              "  padding: 0;\n",
              "}\n",
              "\n",
              "#sk-container-id-1 input.sk-hidden--visually {\n",
              "  border: 0;\n",
              "  clip: rect(1px 1px 1px 1px);\n",
              "  clip: rect(1px, 1px, 1px, 1px);\n",
              "  height: 1px;\n",
              "  margin: -1px;\n",
              "  overflow: hidden;\n",
              "  padding: 0;\n",
              "  position: absolute;\n",
              "  width: 1px;\n",
              "}\n",
              "\n",
              "#sk-container-id-1 div.sk-dashed-wrapped {\n",
              "  border: 1px dashed var(--sklearn-color-line);\n",
              "  margin: 0 0.4em 0.5em 0.4em;\n",
              "  box-sizing: border-box;\n",
              "  padding-bottom: 0.4em;\n",
              "  background-color: var(--sklearn-color-background);\n",
              "}\n",
              "\n",
              "#sk-container-id-1 div.sk-container {\n",
              "  /* jupyter's `normalize.less` sets `[hidden] { display: none; }`\n",
              "     but bootstrap.min.css set `[hidden] { display: none !important; }`\n",
              "     so we also need the `!important` here to be able to override the\n",
              "     default hidden behavior on the sphinx rendered scikit-learn.org.\n",
              "     See: https://github.com/scikit-learn/scikit-learn/issues/21755 */\n",
              "  display: inline-block !important;\n",
              "  position: relative;\n",
              "}\n",
              "\n",
              "#sk-container-id-1 div.sk-text-repr-fallback {\n",
              "  display: none;\n",
              "}\n",
              "\n",
              "div.sk-parallel-item,\n",
              "div.sk-serial,\n",
              "div.sk-item {\n",
              "  /* draw centered vertical line to link estimators */\n",
              "  background-image: linear-gradient(var(--sklearn-color-text-on-default-background), var(--sklearn-color-text-on-default-background));\n",
              "  background-size: 2px 100%;\n",
              "  background-repeat: no-repeat;\n",
              "  background-position: center center;\n",
              "}\n",
              "\n",
              "/* Parallel-specific style estimator block */\n",
              "\n",
              "#sk-container-id-1 div.sk-parallel-item::after {\n",
              "  content: \"\";\n",
              "  width: 100%;\n",
              "  border-bottom: 2px solid var(--sklearn-color-text-on-default-background);\n",
              "  flex-grow: 1;\n",
              "}\n",
              "\n",
              "#sk-container-id-1 div.sk-parallel {\n",
              "  display: flex;\n",
              "  align-items: stretch;\n",
              "  justify-content: center;\n",
              "  background-color: var(--sklearn-color-background);\n",
              "  position: relative;\n",
              "}\n",
              "\n",
              "#sk-container-id-1 div.sk-parallel-item {\n",
              "  display: flex;\n",
              "  flex-direction: column;\n",
              "}\n",
              "\n",
              "#sk-container-id-1 div.sk-parallel-item:first-child::after {\n",
              "  align-self: flex-end;\n",
              "  width: 50%;\n",
              "}\n",
              "\n",
              "#sk-container-id-1 div.sk-parallel-item:last-child::after {\n",
              "  align-self: flex-start;\n",
              "  width: 50%;\n",
              "}\n",
              "\n",
              "#sk-container-id-1 div.sk-parallel-item:only-child::after {\n",
              "  width: 0;\n",
              "}\n",
              "\n",
              "/* Serial-specific style estimator block */\n",
              "\n",
              "#sk-container-id-1 div.sk-serial {\n",
              "  display: flex;\n",
              "  flex-direction: column;\n",
              "  align-items: center;\n",
              "  background-color: var(--sklearn-color-background);\n",
              "  padding-right: 1em;\n",
              "  padding-left: 1em;\n",
              "}\n",
              "\n",
              "\n",
              "/* Toggleable style: style used for estimator/Pipeline/ColumnTransformer box that is\n",
              "clickable and can be expanded/collapsed.\n",
              "- Pipeline and ColumnTransformer use this feature and define the default style\n",
              "- Estimators will overwrite some part of the style using the `sk-estimator` class\n",
              "*/\n",
              "\n",
              "/* Pipeline and ColumnTransformer style (default) */\n",
              "\n",
              "#sk-container-id-1 div.sk-toggleable {\n",
              "  /* Default theme specific background. It is overwritten whether we have a\n",
              "  specific estimator or a Pipeline/ColumnTransformer */\n",
              "  background-color: var(--sklearn-color-background);\n",
              "}\n",
              "\n",
              "/* Toggleable label */\n",
              "#sk-container-id-1 label.sk-toggleable__label {\n",
              "  cursor: pointer;\n",
              "  display: flex;\n",
              "  width: 100%;\n",
              "  margin-bottom: 0;\n",
              "  padding: 0.5em;\n",
              "  box-sizing: border-box;\n",
              "  text-align: center;\n",
              "  align-items: start;\n",
              "  justify-content: space-between;\n",
              "  gap: 0.5em;\n",
              "}\n",
              "\n",
              "#sk-container-id-1 label.sk-toggleable__label .caption {\n",
              "  font-size: 0.6rem;\n",
              "  font-weight: lighter;\n",
              "  color: var(--sklearn-color-text-muted);\n",
              "}\n",
              "\n",
              "#sk-container-id-1 label.sk-toggleable__label-arrow:before {\n",
              "  /* Arrow on the left of the label */\n",
              "  content: \"▸\";\n",
              "  float: left;\n",
              "  margin-right: 0.25em;\n",
              "  color: var(--sklearn-color-icon);\n",
              "}\n",
              "\n",
              "#sk-container-id-1 label.sk-toggleable__label-arrow:hover:before {\n",
              "  color: var(--sklearn-color-text);\n",
              "}\n",
              "\n",
              "/* Toggleable content - dropdown */\n",
              "\n",
              "#sk-container-id-1 div.sk-toggleable__content {\n",
              "  max-height: 0;\n",
              "  max-width: 0;\n",
              "  overflow: hidden;\n",
              "  text-align: left;\n",
              "  /* unfitted */\n",
              "  background-color: var(--sklearn-color-unfitted-level-0);\n",
              "}\n",
              "\n",
              "#sk-container-id-1 div.sk-toggleable__content.fitted {\n",
              "  /* fitted */\n",
              "  background-color: var(--sklearn-color-fitted-level-0);\n",
              "}\n",
              "\n",
              "#sk-container-id-1 div.sk-toggleable__content pre {\n",
              "  margin: 0.2em;\n",
              "  border-radius: 0.25em;\n",
              "  color: var(--sklearn-color-text);\n",
              "  /* unfitted */\n",
              "  background-color: var(--sklearn-color-unfitted-level-0);\n",
              "}\n",
              "\n",
              "#sk-container-id-1 div.sk-toggleable__content.fitted pre {\n",
              "  /* unfitted */\n",
              "  background-color: var(--sklearn-color-fitted-level-0);\n",
              "}\n",
              "\n",
              "#sk-container-id-1 input.sk-toggleable__control:checked~div.sk-toggleable__content {\n",
              "  /* Expand drop-down */\n",
              "  max-height: 200px;\n",
              "  max-width: 100%;\n",
              "  overflow: auto;\n",
              "}\n",
              "\n",
              "#sk-container-id-1 input.sk-toggleable__control:checked~label.sk-toggleable__label-arrow:before {\n",
              "  content: \"▾\";\n",
              "}\n",
              "\n",
              "/* Pipeline/ColumnTransformer-specific style */\n",
              "\n",
              "#sk-container-id-1 div.sk-label input.sk-toggleable__control:checked~label.sk-toggleable__label {\n",
              "  color: var(--sklearn-color-text);\n",
              "  background-color: var(--sklearn-color-unfitted-level-2);\n",
              "}\n",
              "\n",
              "#sk-container-id-1 div.sk-label.fitted input.sk-toggleable__control:checked~label.sk-toggleable__label {\n",
              "  background-color: var(--sklearn-color-fitted-level-2);\n",
              "}\n",
              "\n",
              "/* Estimator-specific style */\n",
              "\n",
              "/* Colorize estimator box */\n",
              "#sk-container-id-1 div.sk-estimator input.sk-toggleable__control:checked~label.sk-toggleable__label {\n",
              "  /* unfitted */\n",
              "  background-color: var(--sklearn-color-unfitted-level-2);\n",
              "}\n",
              "\n",
              "#sk-container-id-1 div.sk-estimator.fitted input.sk-toggleable__control:checked~label.sk-toggleable__label {\n",
              "  /* fitted */\n",
              "  background-color: var(--sklearn-color-fitted-level-2);\n",
              "}\n",
              "\n",
              "#sk-container-id-1 div.sk-label label.sk-toggleable__label,\n",
              "#sk-container-id-1 div.sk-label label {\n",
              "  /* The background is the default theme color */\n",
              "  color: var(--sklearn-color-text-on-default-background);\n",
              "}\n",
              "\n",
              "/* On hover, darken the color of the background */\n",
              "#sk-container-id-1 div.sk-label:hover label.sk-toggleable__label {\n",
              "  color: var(--sklearn-color-text);\n",
              "  background-color: var(--sklearn-color-unfitted-level-2);\n",
              "}\n",
              "\n",
              "/* Label box, darken color on hover, fitted */\n",
              "#sk-container-id-1 div.sk-label.fitted:hover label.sk-toggleable__label.fitted {\n",
              "  color: var(--sklearn-color-text);\n",
              "  background-color: var(--sklearn-color-fitted-level-2);\n",
              "}\n",
              "\n",
              "/* Estimator label */\n",
              "\n",
              "#sk-container-id-1 div.sk-label label {\n",
              "  font-family: monospace;\n",
              "  font-weight: bold;\n",
              "  display: inline-block;\n",
              "  line-height: 1.2em;\n",
              "}\n",
              "\n",
              "#sk-container-id-1 div.sk-label-container {\n",
              "  text-align: center;\n",
              "}\n",
              "\n",
              "/* Estimator-specific */\n",
              "#sk-container-id-1 div.sk-estimator {\n",
              "  font-family: monospace;\n",
              "  border: 1px dotted var(--sklearn-color-border-box);\n",
              "  border-radius: 0.25em;\n",
              "  box-sizing: border-box;\n",
              "  margin-bottom: 0.5em;\n",
              "  /* unfitted */\n",
              "  background-color: var(--sklearn-color-unfitted-level-0);\n",
              "}\n",
              "\n",
              "#sk-container-id-1 div.sk-estimator.fitted {\n",
              "  /* fitted */\n",
              "  background-color: var(--sklearn-color-fitted-level-0);\n",
              "}\n",
              "\n",
              "/* on hover */\n",
              "#sk-container-id-1 div.sk-estimator:hover {\n",
              "  /* unfitted */\n",
              "  background-color: var(--sklearn-color-unfitted-level-2);\n",
              "}\n",
              "\n",
              "#sk-container-id-1 div.sk-estimator.fitted:hover {\n",
              "  /* fitted */\n",
              "  background-color: var(--sklearn-color-fitted-level-2);\n",
              "}\n",
              "\n",
              "/* Specification for estimator info (e.g. \"i\" and \"?\") */\n",
              "\n",
              "/* Common style for \"i\" and \"?\" */\n",
              "\n",
              ".sk-estimator-doc-link,\n",
              "a:link.sk-estimator-doc-link,\n",
              "a:visited.sk-estimator-doc-link {\n",
              "  float: right;\n",
              "  font-size: smaller;\n",
              "  line-height: 1em;\n",
              "  font-family: monospace;\n",
              "  background-color: var(--sklearn-color-background);\n",
              "  border-radius: 1em;\n",
              "  height: 1em;\n",
              "  width: 1em;\n",
              "  text-decoration: none !important;\n",
              "  margin-left: 0.5em;\n",
              "  text-align: center;\n",
              "  /* unfitted */\n",
              "  border: var(--sklearn-color-unfitted-level-1) 1pt solid;\n",
              "  color: var(--sklearn-color-unfitted-level-1);\n",
              "}\n",
              "\n",
              ".sk-estimator-doc-link.fitted,\n",
              "a:link.sk-estimator-doc-link.fitted,\n",
              "a:visited.sk-estimator-doc-link.fitted {\n",
              "  /* fitted */\n",
              "  border: var(--sklearn-color-fitted-level-1) 1pt solid;\n",
              "  color: var(--sklearn-color-fitted-level-1);\n",
              "}\n",
              "\n",
              "/* On hover */\n",
              "div.sk-estimator:hover .sk-estimator-doc-link:hover,\n",
              ".sk-estimator-doc-link:hover,\n",
              "div.sk-label-container:hover .sk-estimator-doc-link:hover,\n",
              ".sk-estimator-doc-link:hover {\n",
              "  /* unfitted */\n",
              "  background-color: var(--sklearn-color-unfitted-level-3);\n",
              "  color: var(--sklearn-color-background);\n",
              "  text-decoration: none;\n",
              "}\n",
              "\n",
              "div.sk-estimator.fitted:hover .sk-estimator-doc-link.fitted:hover,\n",
              ".sk-estimator-doc-link.fitted:hover,\n",
              "div.sk-label-container:hover .sk-estimator-doc-link.fitted:hover,\n",
              ".sk-estimator-doc-link.fitted:hover {\n",
              "  /* fitted */\n",
              "  background-color: var(--sklearn-color-fitted-level-3);\n",
              "  color: var(--sklearn-color-background);\n",
              "  text-decoration: none;\n",
              "}\n",
              "\n",
              "/* Span, style for the box shown on hovering the info icon */\n",
              ".sk-estimator-doc-link span {\n",
              "  display: none;\n",
              "  z-index: 9999;\n",
              "  position: relative;\n",
              "  font-weight: normal;\n",
              "  right: .2ex;\n",
              "  padding: .5ex;\n",
              "  margin: .5ex;\n",
              "  width: min-content;\n",
              "  min-width: 20ex;\n",
              "  max-width: 50ex;\n",
              "  color: var(--sklearn-color-text);\n",
              "  box-shadow: 2pt 2pt 4pt #999;\n",
              "  /* unfitted */\n",
              "  background: var(--sklearn-color-unfitted-level-0);\n",
              "  border: .5pt solid var(--sklearn-color-unfitted-level-3);\n",
              "}\n",
              "\n",
              ".sk-estimator-doc-link.fitted span {\n",
              "  /* fitted */\n",
              "  background: var(--sklearn-color-fitted-level-0);\n",
              "  border: var(--sklearn-color-fitted-level-3);\n",
              "}\n",
              "\n",
              ".sk-estimator-doc-link:hover span {\n",
              "  display: block;\n",
              "}\n",
              "\n",
              "/* \"?\"-specific style due to the `<a>` HTML tag */\n",
              "\n",
              "#sk-container-id-1 a.estimator_doc_link {\n",
              "  float: right;\n",
              "  font-size: 1rem;\n",
              "  line-height: 1em;\n",
              "  font-family: monospace;\n",
              "  background-color: var(--sklearn-color-background);\n",
              "  border-radius: 1rem;\n",
              "  height: 1rem;\n",
              "  width: 1rem;\n",
              "  text-decoration: none;\n",
              "  /* unfitted */\n",
              "  color: var(--sklearn-color-unfitted-level-1);\n",
              "  border: var(--sklearn-color-unfitted-level-1) 1pt solid;\n",
              "}\n",
              "\n",
              "#sk-container-id-1 a.estimator_doc_link.fitted {\n",
              "  /* fitted */\n",
              "  border: var(--sklearn-color-fitted-level-1) 1pt solid;\n",
              "  color: var(--sklearn-color-fitted-level-1);\n",
              "}\n",
              "\n",
              "/* On hover */\n",
              "#sk-container-id-1 a.estimator_doc_link:hover {\n",
              "  /* unfitted */\n",
              "  background-color: var(--sklearn-color-unfitted-level-3);\n",
              "  color: var(--sklearn-color-background);\n",
              "  text-decoration: none;\n",
              "}\n",
              "\n",
              "#sk-container-id-1 a.estimator_doc_link.fitted:hover {\n",
              "  /* fitted */\n",
              "  background-color: var(--sklearn-color-fitted-level-3);\n",
              "}\n",
              "</style><div id=\"sk-container-id-1\" class=\"sk-top-container\"><div class=\"sk-text-repr-fallback\"><pre>RandomForestClassifier()</pre><b>In a Jupyter environment, please rerun this cell to show the HTML representation or trust the notebook. <br />On GitHub, the HTML representation is unable to render, please try loading this page with nbviewer.org.</b></div><div class=\"sk-container\" hidden><div class=\"sk-item\"><div class=\"sk-estimator fitted sk-toggleable\"><input class=\"sk-toggleable__control sk-hidden--visually\" id=\"sk-estimator-id-1\" type=\"checkbox\" checked><label for=\"sk-estimator-id-1\" class=\"sk-toggleable__label fitted sk-toggleable__label-arrow\"><div><div>RandomForestClassifier</div></div><div><a class=\"sk-estimator-doc-link fitted\" rel=\"noreferrer\" target=\"_blank\" href=\"https://scikit-learn.org/1.6/modules/generated/sklearn.ensemble.RandomForestClassifier.html\">?<span>Documentation for RandomForestClassifier</span></a><span class=\"sk-estimator-doc-link fitted\">i<span>Fitted</span></span></div></label><div class=\"sk-toggleable__content fitted\"><pre>RandomForestClassifier()</pre></div> </div></div></div></div>"
            ]
          },
          "metadata": {},
          "execution_count": 59
        }
      ]
    },
    {
      "cell_type": "code",
      "source": [
        "# Predictions and evaluation\n",
        "y_pred = model.predict(X_test)\n",
        "print(classification_report(y_test, y_pred))"
      ],
      "metadata": {
        "id": "ro4emXP4E0xJ",
        "outputId": "02dbb851-6d80-416a-cadb-aebe922686c9",
        "colab": {
          "base_uri": "https://localhost:8080/"
        }
      },
      "execution_count": 60,
      "outputs": [
        {
          "output_type": "stream",
          "name": "stdout",
          "text": [
            "              precision    recall  f1-score   support\n",
            "\n",
            "           1       1.00      1.00      1.00         5\n",
            "\n",
            "    accuracy                           1.00         5\n",
            "   macro avg       1.00      1.00      1.00         5\n",
            "weighted avg       1.00      1.00      1.00         5\n",
            "\n"
          ]
        }
      ]
    },
    {
      "cell_type": "markdown",
      "source": [
        "# 8. RECOMMENDATIONS"
      ],
      "metadata": {
        "id": "N5-5H3MtjZCA"
      }
    },
    {
      "cell_type": "markdown",
      "source": [
        "8.1. Real-Time Dish Personalization"
      ],
      "metadata": {
        "id": "Zrgsva2TgyWO"
      }
    },
    {
      "cell_type": "markdown",
      "source": [
        "Approach:\n",
        "\n",
        "\n",
        "1.Track a user’s previous orders and cooking sessions.\n",
        "\n",
        "2.Based on their order history, provide dish recommendations.\n",
        "\n",
        "3.Simulate weather and offer dishes accordingly (e.g., warm food in winter, cold food in summer)."
      ],
      "metadata": {
        "id": "fRegOgw9Le4a"
      }
    },
    {
      "cell_type": "code",
      "source": [
        "# Simulating user data\n",
        "user_data = {\n",
        "    'User_ID': ['U001', 'U002', 'U003', 'U004'],\n",
        "    'Favorite_Dish': ['Spaghetti', 'Caesar Salad', 'Chicken Soup', 'Pizza'],\n",
        "    'Order_History': [['Spaghetti', 'Pizza'], ['Caesar Salad', 'Pasta'], ['Chicken Soup'], ['Pizza', 'Burger']],\n",
        "}"
      ],
      "metadata": {
        "id": "-VNLY_Lwe5NH"
      },
      "execution_count": 61,
      "outputs": []
    },
    {
      "cell_type": "code",
      "source": [
        "# Simulate weather based on month (1: cold, 2: warm)\n",
        "current_month = 12  # December (Cold)\n",
        "weather = 'Cold' if current_month in [1, 2, 12] else 'Warm'\n"
      ],
      "metadata": {
        "id": "-aMHJtB9e5Dt"
      },
      "execution_count": 62,
      "outputs": []
    },
    {
      "cell_type": "code",
      "source": [
        "# Dish recommendations based on weather\n",
        "def recommend_dishes(weather, user_favorites):\n",
        "    if weather == 'Cold':\n",
        "        recommendations = ['Soup', 'Stew', 'Pasta', 'Hot Chocolate']\n",
        "    else:\n",
        "        recommendations = ['Salad', 'Cold Sandwich', 'Fruit Bowl', 'Iced Coffee']\n",
        "\n",
        "    # Suggest dishes based on favorite meals\n",
        "    if weather == 'Cold' and 'Soup' not in user_favorites:\n",
        "        recommendations.append('Chicken Soup')\n",
        "    elif weather == 'Warm' and 'Salad' not in user_favorites:\n",
        "        recommendations.append('Caesar Salad')\n",
        "\n",
        "    return recommendations\n"
      ],
      "metadata": {
        "id": "pSlWwK33e4hZ"
      },
      "execution_count": 63,
      "outputs": []
    },
    {
      "cell_type": "code",
      "source": [
        "# Convert user_data to DataFrame\n",
        "users = pd.DataFrame(user_data)"
      ],
      "metadata": {
        "id": "LlDRDpTOhGes"
      },
      "execution_count": 65,
      "outputs": []
    },
    {
      "cell_type": "code",
      "source": [
        "# Adding recommendations based on user preferences and weather\n",
        "users['Recommended_Dishes'] = users['Favorite_Dish'].apply(lambda x: recommend_dishes(weather, x))\n",
        "print(users[['User_ID', 'Recommended_Dishes']])"
      ],
      "metadata": {
        "colab": {
          "base_uri": "https://localhost:8080/"
        },
        "id": "_3P8wHHYb0YX",
        "outputId": "702e9ec5-0613-40c4-a735-585194b7a31e"
      },
      "execution_count": 66,
      "outputs": [
        {
          "output_type": "stream",
          "name": "stdout",
          "text": [
            "  User_ID                                Recommended_Dishes\n",
            "0    U001  [Soup, Stew, Pasta, Hot Chocolate, Chicken Soup]\n",
            "1    U002  [Soup, Stew, Pasta, Hot Chocolate, Chicken Soup]\n",
            "2    U003                [Soup, Stew, Pasta, Hot Chocolate]\n",
            "3    U004  [Soup, Stew, Pasta, Hot Chocolate, Chicken Soup]\n"
          ]
        }
      ]
    },
    {
      "cell_type": "markdown",
      "source": [
        "8.2. AI-Driven Dish Rotation System Based on User Interaction"
      ],
      "metadata": {
        "id": "x_ZzA22shMVK"
      }
    },
    {
      "cell_type": "markdown",
      "source": [
        "Approach:\n",
        "\n",
        "1.Track user preferences over time.\n",
        "\n",
        "2.Identify which dishes are most frequently ordered and which are not.\n",
        "\n",
        "3.Automatically suggest new dishes that have not been seen or ordered recently."
      ],
      "metadata": {
        "id": "PEZY6exdL2QI"
      }
    },
    {
      "cell_type": "code",
      "source": [
        "# Simulating a dataset of user orders\n",
        "order_data = {\n",
        "    'User_ID': ['U001', 'U002', 'U003', 'U004', 'U001', 'U003', 'U002', 'U004'],\n",
        "    'Dish_Ordered': ['Spaghetti', 'Caesar Salad', 'Pizza', 'Burger', 'Pizza', 'Pasta', 'Caesar Salad', 'Pizza'],\n",
        "}\n"
      ],
      "metadata": {
        "id": "S4A6aIHRhMxp"
      },
      "execution_count": 67,
      "outputs": []
    },
    {
      "cell_type": "code",
      "source": [
        "orders = pd.DataFrame(order_data)"
      ],
      "metadata": {
        "id": "NQmakPCchNsn"
      },
      "execution_count": 68,
      "outputs": []
    },
    {
      "cell_type": "code",
      "source": [
        "# Track the frequency of dishes ordered\n",
        "dish_frequency = orders['Dish_Ordered'].value_counts()"
      ],
      "metadata": {
        "id": "bpzdbNfQhNnm"
      },
      "execution_count": 69,
      "outputs": []
    },
    {
      "cell_type": "code",
      "source": [
        "# Recommend dishes based on order frequency and rotation\n",
        "def rotate_menu(dish_frequency):\n",
        "\n",
        "    least_ordered = dish_frequency.tail(2).index.tolist()\n",
        "    new_menu = list(dish_frequency.index) + least_ordered\n",
        "    return new_menu\n"
      ],
      "metadata": {
        "id": "iac-A2GkhNlb"
      },
      "execution_count": 70,
      "outputs": []
    },
    {
      "cell_type": "code",
      "source": [
        "# Get the rotated menu\n",
        "rotated_menu = rotate_menu(dish_frequency)\n",
        "print(\"Rotated Menu: \", rotated_menu)"
      ],
      "metadata": {
        "colab": {
          "base_uri": "https://localhost:8080/"
        },
        "id": "vY__d5lChNjg",
        "outputId": "8140fc16-80e0-4b53-a127-dcd94f2f58af"
      },
      "execution_count": 71,
      "outputs": [
        {
          "output_type": "stream",
          "name": "stdout",
          "text": [
            "Rotated Menu:  ['Pizza', 'Caesar Salad', 'Spaghetti', 'Burger', 'Pasta', 'Burger', 'Pasta']\n"
          ]
        }
      ]
    }
  ]
}